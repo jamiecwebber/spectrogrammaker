{
 "cells": [
  {
   "cell_type": "code",
   "execution_count": 9,
   "metadata": {},
   "outputs": [],
   "source": [
    "import librosa\n",
    "import soundfile\n",
    "import numpy\n",
    "import skimage\n"
   ]
  },
  {
   "cell_type": "code",
   "execution_count": 3,
   "metadata": {
    "scrolled": true
   },
   "outputs": [
    {
     "data": {
      "text/plain": [
       "(array([ 1.5801792e-05,  4.6860278e-05,  4.2453634e-05, ...,\n",
       "        -2.4861984e-05,  3.0201786e-06,  6.3318989e-06], dtype=float32), 22050)"
      ]
     },
     "execution_count": 3,
     "metadata": {},
     "output_type": "execute_result"
    }
   ],
   "source": [
    "librosa.load(r'/media/jamie/My Passport/Data/Yanni/Yanni Discography (1984-2012) [FLAC][WwW.LoKoTorrents]/Yanni Discography (1984-2012) [FLAC][WwW.LoKoTorrents.CoM]/1988 - Chameleon Days/04 - The Rain Must Fall.flac')"
   ]
  },
  {
   "cell_type": "code",
   "execution_count": 33,
   "metadata": {},
   "outputs": [
    {
     "name": "stdout",
     "output_type": "stream",
     "text": [
      "Collecting fastai\n",
      "\u001b[?25l  Downloading https://files.pythonhosted.org/packages/c1/e2/42342ded0385d694e3250e74f43f0dc9a3ff3d5c2241a2ddd98236b5f9de/fastai-1.0.57-py3-none-any.whl (233kB)\n",
      "\u001b[K     |████████████████████████████████| 235kB 40kB/s eta 0:00:01\n",
      "\u001b[?25hRequirement already satisfied: beautifulsoup4 in /home/jamie/anaconda3/lib/python3.7/site-packages (from fastai) (4.7.1)\n",
      "Collecting nvidia-ml-py3 (from fastai)\n",
      "  Downloading https://files.pythonhosted.org/packages/6d/64/cce82bddb80c0b0f5c703bbdafa94bfb69a1c5ad7a79cff00b482468f0d3/nvidia-ml-py3-7.352.0.tar.gz\n",
      "Requirement already satisfied: pandas in /home/jamie/anaconda3/lib/python3.7/site-packages (from fastai) (0.25.0)\n",
      "Requirement already satisfied: Pillow in /home/jamie/anaconda3/lib/python3.7/site-packages (from fastai) (6.1.0)\n",
      "Requirement already satisfied: pyyaml in /home/jamie/anaconda3/lib/python3.7/site-packages (from fastai) (5.1.1)\n",
      "Collecting fastprogress>=0.1.19 (from fastai)\n",
      "  Downloading https://files.pythonhosted.org/packages/83/db/794db47024a26c75635c35f0ee5431aa8b528e895ad1ed958041290f83f7/fastprogress-0.1.21-py3-none-any.whl\n",
      "Requirement already satisfied: matplotlib in /home/jamie/anaconda3/lib/python3.7/site-packages (from fastai) (3.1.0)\n",
      "Requirement already satisfied: requests in /home/jamie/anaconda3/lib/python3.7/site-packages (from fastai) (2.22.0)\n",
      "Requirement already satisfied: bottleneck in /home/jamie/anaconda3/lib/python3.7/site-packages (from fastai) (1.2.1)\n",
      "Collecting torch>=1.0.0 (from fastai)\n",
      "\u001b[?25l  Downloading https://files.pythonhosted.org/packages/05/65/5248be50c55ab7429dd5c11f5e2f9f5865606b80e854ca63139ad1a584f2/torch-1.2.0-cp37-cp37m-manylinux1_x86_64.whl (748.9MB)\n",
      "\u001b[K     |████████████████████████████████| 748.9MB 87kB/s  eta 0:00:01     |██▋                             | 61.1MB 61kB/s eta 3:05:24     |████████████████████████████▉   | 674.3MB 1.9MB/s eta 0:00:40\n",
      "\u001b[?25hCollecting spacy>=2.0.18 (from fastai)\n",
      "\u001b[33m  WARNING: Retrying (Retry(total=4, connect=None, read=None, redirect=None, status=None)) after connection broken by 'ReadTimeoutError(\"HTTPSConnectionPool(host='pypi.org', port=443): Read timed out. (read timeout=15)\")': /simple/spacy/\u001b[0m\n",
      "\u001b[?25l  Downloading https://files.pythonhosted.org/packages/e8/75/3c000560b15248530694b4bf6222357549accf24b9ee5b27a3f0acc8323e/spacy-2.1.8-cp37-cp37m-manylinux1_x86_64.whl (30.8MB)\n",
      "\u001b[K     |████████████████████████████████| 30.8MB 2.3MB/s eta 0:00:01\n",
      "\u001b[?25hRequirement already satisfied: numexpr in /home/jamie/anaconda3/lib/python3.7/site-packages (from fastai) (2.6.9)\n",
      "Requirement already satisfied: numpy>=1.15 in /home/jamie/anaconda3/lib/python3.7/site-packages (from fastai) (1.16.4)\n",
      "Collecting torchvision (from fastai)\n",
      "\u001b[?25l  Downloading https://files.pythonhosted.org/packages/51/83/2d77d040e34bd8f70dcb4770f7eb7d0aa71e07738abf6831be863ade00db/torchvision-0.4.0-cp37-cp37m-manylinux1_x86_64.whl (8.8MB)\n",
      "\u001b[K     |████████████████████████████████| 8.8MB 792kB/s eta 0:00:01\n",
      "\u001b[?25hRequirement already satisfied: scipy in /home/jamie/anaconda3/lib/python3.7/site-packages (from fastai) (1.3.0)\n",
      "Requirement already satisfied: packaging in /home/jamie/anaconda3/lib/python3.7/site-packages (from fastai) (19.0)\n",
      "Requirement already satisfied: soupsieve>=1.2 in /home/jamie/anaconda3/lib/python3.7/site-packages (from beautifulsoup4->fastai) (1.9.2)\n",
      "Requirement already satisfied: pytz>=2017.2 in /home/jamie/anaconda3/lib/python3.7/site-packages (from pandas->fastai) (2019.1)\n",
      "Requirement already satisfied: python-dateutil>=2.6.1 in /home/jamie/anaconda3/lib/python3.7/site-packages (from pandas->fastai) (2.8.0)\n",
      "Requirement already satisfied: cycler>=0.10 in /home/jamie/anaconda3/lib/python3.7/site-packages (from matplotlib->fastai) (0.10.0)\n",
      "Requirement already satisfied: kiwisolver>=1.0.1 in /home/jamie/anaconda3/lib/python3.7/site-packages (from matplotlib->fastai) (1.1.0)\n",
      "Requirement already satisfied: pyparsing!=2.0.4,!=2.1.2,!=2.1.6,>=2.0.1 in /home/jamie/anaconda3/lib/python3.7/site-packages (from matplotlib->fastai) (2.4.0)\n",
      "Requirement already satisfied: urllib3!=1.25.0,!=1.25.1,<1.26,>=1.21.1 in /home/jamie/anaconda3/lib/python3.7/site-packages (from requests->fastai) (1.24.2)\n",
      "Requirement already satisfied: chardet<3.1.0,>=3.0.2 in /home/jamie/anaconda3/lib/python3.7/site-packages (from requests->fastai) (3.0.4)\n",
      "Requirement already satisfied: idna<2.9,>=2.5 in /home/jamie/anaconda3/lib/python3.7/site-packages (from requests->fastai) (2.8)\n",
      "Requirement already satisfied: certifi>=2017.4.17 in /home/jamie/anaconda3/lib/python3.7/site-packages (from requests->fastai) (2019.6.16)\n",
      "Collecting srsly<1.1.0,>=0.0.6 (from spacy>=2.0.18->fastai)\n",
      "\u001b[?25l  Downloading https://files.pythonhosted.org/packages/1c/a3/8d84ede325d26075a4e1e2cba01201c6301545bca96dbff60ab9e9d96c3e/srsly-0.1.0-cp37-cp37m-manylinux1_x86_64.whl (181kB)\n",
      "\u001b[K     |████████████████████████████████| 184kB 1.4MB/s eta 0:00:01\n",
      "\u001b[?25hCollecting thinc<7.1.0,>=7.0.8 (from spacy>=2.0.18->fastai)\n",
      "\u001b[?25l  Downloading https://files.pythonhosted.org/packages/36/42/d7ea7539af3852fd8c1f0b3adf4a100fb3d72b40b69cef1a764ff979a743/thinc-7.0.8-cp37-cp37m-manylinux1_x86_64.whl (2.1MB)\n",
      "\u001b[K     |████████████████████████████████| 2.1MB 1.9MB/s eta 0:00:01\n",
      "\u001b[?25hCollecting murmurhash<1.1.0,>=0.28.0 (from spacy>=2.0.18->fastai)\n",
      "  Downloading https://files.pythonhosted.org/packages/73/fc/10eeacb926ec1e88cd62f79d9ac106b0a3e3fe5ff1690422d88c29bd0909/murmurhash-1.0.2-cp37-cp37m-manylinux1_x86_64.whl\n",
      "Collecting blis<0.3.0,>=0.2.2 (from spacy>=2.0.18->fastai)\n",
      "\u001b[?25l  Downloading https://files.pythonhosted.org/packages/fa/5f/47b7b29ad202b2210020e2f33bfb06d1db2abe0e709c2a84736e8a9d1bd5/blis-0.2.4-cp37-cp37m-manylinux1_x86_64.whl (3.2MB)\n",
      "\u001b[K     |████████████████████████████████| 3.2MB 2.1MB/s eta 0:00:01\n",
      "\u001b[?25hCollecting plac<1.0.0,>=0.9.6 (from spacy>=2.0.18->fastai)\n",
      "  Downloading https://files.pythonhosted.org/packages/9e/9b/62c60d2f5bc135d2aa1d8c8a86aaf84edb719a59c7f11a4316259e61a298/plac-0.9.6-py2.py3-none-any.whl\n",
      "Collecting cymem<2.1.0,>=2.0.2 (from spacy>=2.0.18->fastai)\n",
      "  Downloading https://files.pythonhosted.org/packages/65/26/e534148e509cbebbea3ee29f50f59eb206621d12c35e4594507da8dc54cc/cymem-2.0.2-cp37-cp37m-manylinux1_x86_64.whl\n",
      "Collecting wasabi<1.1.0,>=0.2.0 (from spacy>=2.0.18->fastai)\n",
      "  Downloading https://files.pythonhosted.org/packages/f4/c1/d76ccdd12c716be79162d934fe7de4ac8a318b9302864716dde940641a79/wasabi-0.2.2-py3-none-any.whl\n",
      "Collecting preshed<2.1.0,>=2.0.1 (from spacy>=2.0.18->fastai)\n",
      "\u001b[?25l  Downloading https://files.pythonhosted.org/packages/bc/2b/3ecd5d90d2d6fd39fbc520de7d80db5d74defdc2d7c2e15531d9cc3498c7/preshed-2.0.1-cp37-cp37m-manylinux1_x86_64.whl (82kB)\n",
      "\u001b[K     |████████████████████████████████| 92kB 1.7MB/s eta 0:00:01\n",
      "\u001b[?25hRequirement already satisfied: six in /home/jamie/anaconda3/lib/python3.7/site-packages (from torchvision->fastai) (1.12.0)\n",
      "Requirement already satisfied: setuptools in /home/jamie/anaconda3/lib/python3.7/site-packages (from kiwisolver>=1.0.1->matplotlib->fastai) (41.0.1)\n",
      "Requirement already satisfied: tqdm<5.0.0,>=4.10.0 in /home/jamie/anaconda3/lib/python3.7/site-packages (from thinc<7.1.0,>=7.0.8->spacy>=2.0.18->fastai) (4.32.1)\n",
      "Building wheels for collected packages: nvidia-ml-py3\n",
      "  Building wheel for nvidia-ml-py3 (setup.py) ... \u001b[?25ldone\n",
      "\u001b[?25h  Stored in directory: /home/jamie/.cache/pip/wheels/e4/1d/06/640c93f5270d67d0247f30be91f232700d19023f9e66d735c7\n",
      "Successfully built nvidia-ml-py3\n",
      "Installing collected packages: nvidia-ml-py3, fastprogress, torch, srsly, cymem, preshed, murmurhash, wasabi, plac, blis, thinc, spacy, torchvision, fastai\n",
      "Successfully installed blis-0.2.4 cymem-2.0.2 fastai-1.0.57 fastprogress-0.1.21 murmurhash-1.0.2 nvidia-ml-py3-7.352.0 plac-0.9.6 preshed-2.0.1 spacy-2.1.8 srsly-0.1.0 thinc-7.0.8 torch-1.2.0 torchvision-0.4.0 wasabi-0.2.2\n"
     ]
    }
   ],
   "source": [
    "! pip install fastai"
   ]
  },
  {
   "cell_type": "code",
   "execution_count": 35,
   "metadata": {},
   "outputs": [],
   "source": [
    "from fastai import*\n",
    "from fastai.vision import *"
   ]
  },
  {
   "cell_type": "code",
   "execution_count": 36,
   "metadata": {},
   "outputs": [],
   "source": [
    "def spectrogram_image(y, sr, out, hop_length, n_mels):\n",
    "    # use log-melspectrogram\n",
    "    mels = librosa.feature.melspectrogram(y=y, sr=sr, n_mels=n_mels,\n",
    "                                            n_fft=hop_length*2, hop_length=hop_length, center=False)\n",
    "    mels = numpy.log(mels + 1e-9) # add small number to avoid log(0)\n",
    "\n",
    "    # min-max scale to fit inside 8-bit range\n",
    "    img = scale_minmax(mels, 0, 255).astype(numpy.uint8)\n",
    "    img = numpy.flip(img, axis=0) # put low frequencies at the bottom in image\n",
    "    img = 255-img # invert. make black==more energy\n",
    "\n",
    "    # save as PNG\n",
    "    skimage.io.imsave(out, img)\n",
    "    \n",
    "def scale_minmax(X, min=0.0, max=1.0):\n",
    "    X_std = (X - X.min()) / (X.max() - X.min())\n",
    "    X_scaled = X_std * (max - min) + min\n",
    "    return X_scaled\n",
    "\n"
   ]
  },
  {
   "cell_type": "code",
   "execution_count": 60,
   "metadata": {},
   "outputs": [],
   "source": [
    "\n",
    "# settings\n",
    "hop_length = 294 # number of samples per time-step in spectrogram\n",
    "n_mels = 224 # number of bins in spectrogram. Height of image\n",
    "time_steps = 223 # number of time-steps. Width of image\n",
    "\n",
    "\n",
    "def generate_images():\n",
    "    \n",
    "    # load audio. Using example from librosa\n",
    "    path = '/media/jamie/My Passport/Data/NSYNTH/nsynth-test.jsonwav/nsynth-test/audio/'\n",
    "    outpath = '/media/jamie/My Passport/Data/NSYNTH/nsynth-test.jsonwav/nsynth-test/graphs/'\n",
    "    \n",
    "    count=0\n",
    "    for filename in os.listdir(path):\n",
    "        if filename.endswith(\".wav\"):\n",
    "            \n",
    "            y, sr = librosa.load(path + filename, offset=1.0, duration=4.0, sr=22050)\n",
    "            out = filename.replace('.wav','.png')\n",
    "\n",
    "            # extract a fixed length window\n",
    "            start_sample = 0 # starting at beginning\n",
    "            length_samples = time_steps*hop_length\n",
    "            window = y[start_sample:start_sample+length_samples]\n",
    "            \n",
    "            # extract a fixed length window\n",
    "            start_sample = 0 # starting at beginning\n",
    "            length_samples = time_steps*hop_length\n",
    "            window = y[start_sample:start_sample+length_samples]\n",
    "\n",
    "            # convert to PNG\n",
    "            spectrogram_image(window, sr=sr, out=outpath+out, hop_length=hop_length, n_mels=n_mels)\n",
    "            \n",
    "            count +=1\n",
    "            if count % 10 == 0 :\n",
    "                print('wrote file', out)\n",
    "            \n",
    "            continue\n",
    "        else:\n",
    "            continue\n",
    "   "
   ]
  },
  {
   "cell_type": "code",
   "execution_count": 61,
   "metadata": {},
   "outputs": [
    {
     "name": "stdout",
     "output_type": "stream",
     "text": [
      "wrote file bass_electronic_018-027-075.png\n",
      "wrote file bass_electronic_018-035-127.png\n",
      "wrote file keyboard_electronic_001-022-075.png\n",
      "wrote file keyboard_electronic_001-027-050.png\n",
      "wrote file keyboard_electronic_001-038-050.png\n",
      "wrote file flute_synthetic_000-060-025.png\n",
      "wrote file flute_synthetic_000-068-050.png\n",
      "wrote file organ_electronic_113-044-075.png\n",
      "wrote file organ_electronic_113-052-127.png\n",
      "wrote file bass_electronic_025-055-025.png\n",
      "wrote file bass_synthetic_033-030-100.png\n",
      "wrote file bass_synthetic_134-075-075.png\n",
      "wrote file bass_synthetic_134-082-025.png\n",
      "wrote file guitar_acoustic_021-049-050.png\n",
      "wrote file guitar_acoustic_021-053-075.png\n"
     ]
    },
    {
     "name": "stderr",
     "output_type": "stream",
     "text": [
      "/home/jamie/anaconda3/lib/python3.7/site-packages/skimage/io/_io.py:141: UserWarning: /media/jamie/My Passport/Data/NSYNTH/nsynth-test.jsonwav/nsynth-test/graphs/mallet_acoustic_062-070-025.png is a low contrast image\n",
      "  warn('%s is a low contrast image' % fname)\n"
     ]
    },
    {
     "name": "stdout",
     "output_type": "stream",
     "text": [
      "wrote file mallet_acoustic_062-071-100.png\n"
     ]
    },
    {
     "name": "stderr",
     "output_type": "stream",
     "text": [
      "/home/jamie/anaconda3/lib/python3.7/site-packages/ipykernel_launcher.py:16: RuntimeWarning: invalid value encountered in true_divide\n",
      "  app.launch_new_instance()\n",
      "/home/jamie/anaconda3/lib/python3.7/site-packages/skimage/io/_io.py:141: UserWarning: /media/jamie/My Passport/Data/NSYNTH/nsynth-test.jsonwav/nsynth-test/graphs/mallet_acoustic_062-075-025.png is a low contrast image\n",
      "  warn('%s is a low contrast image' % fname)\n",
      "/home/jamie/anaconda3/lib/python3.7/site-packages/skimage/io/_io.py:141: UserWarning: /media/jamie/My Passport/Data/NSYNTH/nsynth-test.jsonwav/nsynth-test/graphs/mallet_acoustic_062-078-025.png is a low contrast image\n",
      "  warn('%s is a low contrast image' % fname)\n"
     ]
    },
    {
     "name": "stdout",
     "output_type": "stream",
     "text": [
      "wrote file mallet_acoustic_062-078-025.png\n",
      "wrote file string_acoustic_056-041-025.png\n",
      "wrote file keyboard_electronic_098-062-127.png\n",
      "wrote file keyboard_electronic_098-072-025.png\n",
      "wrote file bass_synthetic_033-034-025.png\n",
      "wrote file bass_synthetic_033-043-100.png\n",
      "wrote file brass_acoustic_015-056-025.png\n",
      "wrote file brass_acoustic_015-062-100.png\n",
      "wrote file keyboard_electronic_003-065-050.png\n",
      "wrote file keyboard_electronic_003-073-100.png\n",
      "wrote file organ_electronic_028-025-050.png\n",
      "wrote file organ_electronic_028-034-075.png\n"
     ]
    },
    {
     "name": "stderr",
     "output_type": "stream",
     "text": [
      "/home/jamie/anaconda3/lib/python3.7/site-packages/skimage/io/_io.py:141: UserWarning: /media/jamie/My Passport/Data/NSYNTH/nsynth-test.jsonwav/nsynth-test/graphs/reed_acoustic_023-083-025.png is a low contrast image\n",
      "  warn('%s is a low contrast image' % fname)\n",
      "/home/jamie/anaconda3/lib/python3.7/site-packages/skimage/io/_io.py:141: UserWarning: /media/jamie/My Passport/Data/NSYNTH/nsynth-test.jsonwav/nsynth-test/graphs/reed_acoustic_023-083-050.png is a low contrast image\n",
      "  warn('%s is a low contrast image' % fname)\n",
      "/home/jamie/anaconda3/lib/python3.7/site-packages/skimage/io/_io.py:141: UserWarning: /media/jamie/My Passport/Data/NSYNTH/nsynth-test.jsonwav/nsynth-test/graphs/reed_acoustic_023-084-100.png is a low contrast image\n",
      "  warn('%s is a low contrast image' % fname)\n"
     ]
    },
    {
     "name": "stdout",
     "output_type": "stream",
     "text": [
      "wrote file reed_acoustic_023-083-050.png\n"
     ]
    },
    {
     "name": "stderr",
     "output_type": "stream",
     "text": [
      "/home/jamie/anaconda3/lib/python3.7/site-packages/skimage/io/_io.py:141: UserWarning: /media/jamie/My Passport/Data/NSYNTH/nsynth-test.jsonwav/nsynth-test/graphs/reed_acoustic_023-085-075.png is a low contrast image\n",
      "  warn('%s is a low contrast image' % fname)\n",
      "/home/jamie/anaconda3/lib/python3.7/site-packages/skimage/io/_io.py:141: UserWarning: /media/jamie/My Passport/Data/NSYNTH/nsynth-test.jsonwav/nsynth-test/graphs/reed_acoustic_023-089-025.png is a low contrast image\n",
      "  warn('%s is a low contrast image' % fname)\n",
      "/home/jamie/anaconda3/lib/python3.7/site-packages/skimage/io/_io.py:141: UserWarning: /media/jamie/My Passport/Data/NSYNTH/nsynth-test.jsonwav/nsynth-test/graphs/reed_acoustic_023-090-050.png is a low contrast image\n",
      "  warn('%s is a low contrast image' % fname)\n",
      "/home/jamie/anaconda3/lib/python3.7/site-packages/skimage/io/_io.py:141: UserWarning: /media/jamie/My Passport/Data/NSYNTH/nsynth-test.jsonwav/nsynth-test/graphs/reed_acoustic_023-090-075.png is a low contrast image\n",
      "  warn('%s is a low contrast image' % fname)\n",
      "/home/jamie/anaconda3/lib/python3.7/site-packages/skimage/io/_io.py:141: UserWarning: /media/jamie/My Passport/Data/NSYNTH/nsynth-test.jsonwav/nsynth-test/graphs/reed_acoustic_023-091-025.png is a low contrast image\n",
      "  warn('%s is a low contrast image' % fname)\n",
      "/home/jamie/anaconda3/lib/python3.7/site-packages/skimage/io/_io.py:141: UserWarning: /media/jamie/My Passport/Data/NSYNTH/nsynth-test.jsonwav/nsynth-test/graphs/reed_acoustic_023-092-025.png is a low contrast image\n",
      "  warn('%s is a low contrast image' % fname)\n",
      "/home/jamie/anaconda3/lib/python3.7/site-packages/skimage/io/_io.py:141: UserWarning: /media/jamie/My Passport/Data/NSYNTH/nsynth-test.jsonwav/nsynth-test/graphs/reed_acoustic_023-092-100.png is a low contrast image\n",
      "  warn('%s is a low contrast image' % fname)\n",
      "/home/jamie/anaconda3/lib/python3.7/site-packages/skimage/io/_io.py:141: UserWarning: /media/jamie/My Passport/Data/NSYNTH/nsynth-test.jsonwav/nsynth-test/graphs/reed_acoustic_023-093-100.png is a low contrast image\n",
      "  warn('%s is a low contrast image' % fname)\n",
      "/home/jamie/anaconda3/lib/python3.7/site-packages/skimage/io/_io.py:141: UserWarning: /media/jamie/My Passport/Data/NSYNTH/nsynth-test.jsonwav/nsynth-test/graphs/reed_acoustic_023-095-025.png is a low contrast image\n",
      "  warn('%s is a low contrast image' % fname)\n"
     ]
    },
    {
     "name": "stdout",
     "output_type": "stream",
     "text": [
      "wrote file reed_acoustic_023-092-100.png\n"
     ]
    },
    {
     "name": "stderr",
     "output_type": "stream",
     "text": [
      "/home/jamie/anaconda3/lib/python3.7/site-packages/skimage/io/_io.py:141: UserWarning: /media/jamie/My Passport/Data/NSYNTH/nsynth-test.jsonwav/nsynth-test/graphs/reed_acoustic_023-095-127.png is a low contrast image\n",
      "  warn('%s is a low contrast image' % fname)\n",
      "/home/jamie/anaconda3/lib/python3.7/site-packages/skimage/io/_io.py:141: UserWarning: /media/jamie/My Passport/Data/NSYNTH/nsynth-test.jsonwav/nsynth-test/graphs/reed_acoustic_023-097-100.png is a low contrast image\n",
      "  warn('%s is a low contrast image' % fname)\n",
      "/home/jamie/anaconda3/lib/python3.7/site-packages/skimage/io/_io.py:141: UserWarning: /media/jamie/My Passport/Data/NSYNTH/nsynth-test.jsonwav/nsynth-test/graphs/reed_acoustic_023-097-127.png is a low contrast image\n",
      "  warn('%s is a low contrast image' % fname)\n"
     ]
    },
    {
     "name": "stdout",
     "output_type": "stream",
     "text": [
      "wrote file guitar_electronic_028-028-050.png\n",
      "wrote file guitar_electronic_028-034-127.png\n",
      "wrote file guitar_electronic_028-046-100.png\n"
     ]
    },
    {
     "name": "stderr",
     "output_type": "stream",
     "text": [
      "/home/jamie/anaconda3/lib/python3.7/site-packages/skimage/io/_io.py:141: UserWarning: /media/jamie/My Passport/Data/NSYNTH/nsynth-test.jsonwav/nsynth-test/graphs/keyboard_synthetic_000-100-100.png is a low contrast image\n",
      "  warn('%s is a low contrast image' % fname)\n",
      "/home/jamie/anaconda3/lib/python3.7/site-packages/skimage/io/_io.py:141: UserWarning: /media/jamie/My Passport/Data/NSYNTH/nsynth-test.jsonwav/nsynth-test/graphs/keyboard_synthetic_000-101-100.png is a low contrast image\n",
      "  warn('%s is a low contrast image' % fname)\n",
      "/home/jamie/anaconda3/lib/python3.7/site-packages/skimage/io/_io.py:141: UserWarning: /media/jamie/My Passport/Data/NSYNTH/nsynth-test.jsonwav/nsynth-test/graphs/keyboard_synthetic_000-102-025.png is a low contrast image\n",
      "  warn('%s is a low contrast image' % fname)\n",
      "/home/jamie/anaconda3/lib/python3.7/site-packages/skimage/io/_io.py:141: UserWarning: /media/jamie/My Passport/Data/NSYNTH/nsynth-test.jsonwav/nsynth-test/graphs/keyboard_synthetic_000-103-127.png is a low contrast image\n",
      "  warn('%s is a low contrast image' % fname)\n",
      "/home/jamie/anaconda3/lib/python3.7/site-packages/skimage/io/_io.py:141: UserWarning: /media/jamie/My Passport/Data/NSYNTH/nsynth-test.jsonwav/nsynth-test/graphs/keyboard_synthetic_000-104-127.png is a low contrast image\n",
      "  warn('%s is a low contrast image' % fname)\n",
      "/home/jamie/anaconda3/lib/python3.7/site-packages/skimage/io/_io.py:141: UserWarning: /media/jamie/My Passport/Data/NSYNTH/nsynth-test.jsonwav/nsynth-test/graphs/keyboard_synthetic_000-107-075.png is a low contrast image\n",
      "  warn('%s is a low contrast image' % fname)\n",
      "/home/jamie/anaconda3/lib/python3.7/site-packages/skimage/io/_io.py:141: UserWarning: /media/jamie/My Passport/Data/NSYNTH/nsynth-test.jsonwav/nsynth-test/graphs/keyboard_synthetic_000-108-050.png is a low contrast image\n",
      "  warn('%s is a low contrast image' % fname)\n"
     ]
    },
    {
     "name": "stdout",
     "output_type": "stream",
     "text": [
      "wrote file mallet_acoustic_047-066-025.png\n",
      "wrote file string_acoustic_071-025-100.png\n",
      "wrote file string_acoustic_071-032-025.png\n",
      "wrote file guitar_acoustic_010-106-050.png\n",
      "wrote file guitar_acoustic_014-024-075.png\n",
      "wrote file guitar_acoustic_014-029-100.png\n",
      "wrote file brass_acoustic_059-059-075.png\n",
      "wrote file bass_synthetic_068-066-050.png\n",
      "wrote file bass_synthetic_068-074-075.png\n",
      "wrote file bass_synthetic_068-084-025.png\n",
      "wrote file bass_synthetic_135-076-100.png\n",
      "wrote file organ_electronic_001-071-025.png\n",
      "wrote file organ_electronic_001-079-075.png\n",
      "wrote file keyboard_electronic_001-098-050.png\n",
      "wrote file keyboard_electronic_001-108-050.png\n",
      "wrote file organ_electronic_057-044-127.png\n",
      "wrote file organ_electronic_057-052-100.png\n",
      "wrote file reed_acoustic_018-086-127.png\n",
      "wrote file reed_acoustic_023-040-100.png\n",
      "wrote file bass_synthetic_009-021-100.png\n",
      "wrote file guitar_acoustic_015-025-075.png\n",
      "wrote file guitar_acoustic_015-034-075.png\n",
      "wrote file keyboard_electronic_002-075-100.png\n"
     ]
    },
    {
     "name": "stderr",
     "output_type": "stream",
     "text": [
      "/home/jamie/anaconda3/lib/python3.7/site-packages/skimage/io/_io.py:141: UserWarning: /media/jamie/My Passport/Data/NSYNTH/nsynth-test.jsonwav/nsynth-test/graphs/keyboard_electronic_002-106-100.png is a low contrast image\n",
      "  warn('%s is a low contrast image' % fname)\n"
     ]
    },
    {
     "name": "stdout",
     "output_type": "stream",
     "text": [
      "wrote file keyboard_electronic_078-036-100.png\n"
     ]
    },
    {
     "name": "stderr",
     "output_type": "stream",
     "text": [
      "/home/jamie/anaconda3/lib/python3.7/site-packages/skimage/io/_io.py:141: UserWarning: /media/jamie/My Passport/Data/NSYNTH/nsynth-test.jsonwav/nsynth-test/graphs/keyboard_electronic_098-106-100.png is a low contrast image\n",
      "  warn('%s is a low contrast image' % fname)\n",
      "/home/jamie/anaconda3/lib/python3.7/site-packages/skimage/io/_io.py:141: UserWarning: /media/jamie/My Passport/Data/NSYNTH/nsynth-test.jsonwav/nsynth-test/graphs/keyboard_synthetic_000-034-050.png is a low contrast image\n",
      "  warn('%s is a low contrast image' % fname)\n",
      "/home/jamie/anaconda3/lib/python3.7/site-packages/skimage/io/_io.py:141: UserWarning: /media/jamie/My Passport/Data/NSYNTH/nsynth-test.jsonwav/nsynth-test/graphs/keyboard_synthetic_000-052-100.png is a low contrast image\n",
      "  warn('%s is a low contrast image' % fname)\n",
      "/home/jamie/anaconda3/lib/python3.7/site-packages/skimage/io/_io.py:141: UserWarning: /media/jamie/My Passport/Data/NSYNTH/nsynth-test.jsonwav/nsynth-test/graphs/keyboard_synthetic_000-035-100.png is a low contrast image\n",
      "  warn('%s is a low contrast image' % fname)\n"
     ]
    },
    {
     "name": "stdout",
     "output_type": "stream",
     "text": [
      "wrote file keyboard_synthetic_000-052-100.png\n"
     ]
    },
    {
     "name": "stderr",
     "output_type": "stream",
     "text": [
      "/home/jamie/anaconda3/lib/python3.7/site-packages/skimage/io/_io.py:141: UserWarning: /media/jamie/My Passport/Data/NSYNTH/nsynth-test.jsonwav/nsynth-test/graphs/keyboard_synthetic_000-038-100.png is a low contrast image\n",
      "  warn('%s is a low contrast image' % fname)\n",
      "/home/jamie/anaconda3/lib/python3.7/site-packages/skimage/io/_io.py:141: UserWarning: /media/jamie/My Passport/Data/NSYNTH/nsynth-test.jsonwav/nsynth-test/graphs/keyboard_synthetic_000-039-025.png is a low contrast image\n",
      "  warn('%s is a low contrast image' % fname)\n",
      "/home/jamie/anaconda3/lib/python3.7/site-packages/skimage/io/_io.py:141: UserWarning: /media/jamie/My Passport/Data/NSYNTH/nsynth-test.jsonwav/nsynth-test/graphs/keyboard_synthetic_000-040-025.png is a low contrast image\n",
      "  warn('%s is a low contrast image' % fname)\n",
      "/home/jamie/anaconda3/lib/python3.7/site-packages/skimage/io/_io.py:141: UserWarning: /media/jamie/My Passport/Data/NSYNTH/nsynth-test.jsonwav/nsynth-test/graphs/keyboard_synthetic_000-041-075.png is a low contrast image\n",
      "  warn('%s is a low contrast image' % fname)\n",
      "/home/jamie/anaconda3/lib/python3.7/site-packages/skimage/io/_io.py:141: UserWarning: /media/jamie/My Passport/Data/NSYNTH/nsynth-test.jsonwav/nsynth-test/graphs/keyboard_synthetic_000-044-025.png is a low contrast image\n",
      "  warn('%s is a low contrast image' % fname)\n",
      "/home/jamie/anaconda3/lib/python3.7/site-packages/skimage/io/_io.py:141: UserWarning: /media/jamie/My Passport/Data/NSYNTH/nsynth-test.jsonwav/nsynth-test/graphs/keyboard_synthetic_000-044-050.png is a low contrast image\n",
      "  warn('%s is a low contrast image' % fname)\n"
     ]
    },
    {
     "name": "stdout",
     "output_type": "stream",
     "text": [
      "wrote file keyboard_synthetic_000-044-050.png\n"
     ]
    },
    {
     "name": "stderr",
     "output_type": "stream",
     "text": [
      "/home/jamie/anaconda3/lib/python3.7/site-packages/skimage/io/_io.py:141: UserWarning: /media/jamie/My Passport/Data/NSYNTH/nsynth-test.jsonwav/nsynth-test/graphs/keyboard_synthetic_000-045-025.png is a low contrast image\n",
      "  warn('%s is a low contrast image' % fname)\n",
      "/home/jamie/anaconda3/lib/python3.7/site-packages/skimage/io/_io.py:141: UserWarning: /media/jamie/My Passport/Data/NSYNTH/nsynth-test.jsonwav/nsynth-test/graphs/keyboard_synthetic_000-046-025.png is a low contrast image\n",
      "  warn('%s is a low contrast image' % fname)\n",
      "/home/jamie/anaconda3/lib/python3.7/site-packages/skimage/io/_io.py:141: UserWarning: /media/jamie/My Passport/Data/NSYNTH/nsynth-test.jsonwav/nsynth-test/graphs/keyboard_synthetic_000-047-025.png is a low contrast image\n",
      "  warn('%s is a low contrast image' % fname)\n",
      "/home/jamie/anaconda3/lib/python3.7/site-packages/skimage/io/_io.py:141: UserWarning: /media/jamie/My Passport/Data/NSYNTH/nsynth-test.jsonwav/nsynth-test/graphs/keyboard_synthetic_000-047-050.png is a low contrast image\n",
      "  warn('%s is a low contrast image' % fname)\n",
      "/home/jamie/anaconda3/lib/python3.7/site-packages/skimage/io/_io.py:141: UserWarning: /media/jamie/My Passport/Data/NSYNTH/nsynth-test.jsonwav/nsynth-test/graphs/keyboard_synthetic_000-047-100.png is a low contrast image\n",
      "  warn('%s is a low contrast image' % fname)\n"
     ]
    },
    {
     "name": "stdout",
     "output_type": "stream",
     "text": [
      "wrote file keyboard_synthetic_000-049-100.png\n"
     ]
    },
    {
     "name": "stderr",
     "output_type": "stream",
     "text": [
      "/home/jamie/anaconda3/lib/python3.7/site-packages/skimage/io/_io.py:141: UserWarning: /media/jamie/My Passport/Data/NSYNTH/nsynth-test.jsonwav/nsynth-test/graphs/keyboard_synthetic_000-050-100.png is a low contrast image\n",
      "  warn('%s is a low contrast image' % fname)\n"
     ]
    },
    {
     "name": "stdout",
     "output_type": "stream",
     "text": [
      "wrote file keyboard_electronic_069-085-100.png\n",
      "wrote file guitar_acoustic_030-051-127.png\n",
      "wrote file guitar_acoustic_030-073-050.png\n"
     ]
    },
    {
     "name": "stderr",
     "output_type": "stream",
     "text": [
      "/home/jamie/anaconda3/lib/python3.7/site-packages/skimage/io/_io.py:141: UserWarning: /media/jamie/My Passport/Data/NSYNTH/nsynth-test.jsonwav/nsynth-test/graphs/guitar_acoustic_030-074-050.png is a low contrast image\n",
      "  warn('%s is a low contrast image' % fname)\n",
      "/home/jamie/anaconda3/lib/python3.7/site-packages/skimage/io/_io.py:141: UserWarning: /media/jamie/My Passport/Data/NSYNTH/nsynth-test.jsonwav/nsynth-test/graphs/guitar_acoustic_030-076-050.png is a low contrast image\n",
      "  warn('%s is a low contrast image' % fname)\n",
      "/home/jamie/anaconda3/lib/python3.7/site-packages/skimage/io/_io.py:141: UserWarning: /media/jamie/My Passport/Data/NSYNTH/nsynth-test.jsonwav/nsynth-test/graphs/guitar_acoustic_030-081-050.png is a low contrast image\n",
      "  warn('%s is a low contrast image' % fname)\n",
      "/home/jamie/anaconda3/lib/python3.7/site-packages/skimage/io/_io.py:141: UserWarning: /media/jamie/My Passport/Data/NSYNTH/nsynth-test.jsonwav/nsynth-test/graphs/guitar_acoustic_030-087-025.png is a low contrast image\n",
      "  warn('%s is a low contrast image' % fname)\n",
      "/home/jamie/anaconda3/lib/python3.7/site-packages/skimage/io/_io.py:141: UserWarning: /media/jamie/My Passport/Data/NSYNTH/nsynth-test.jsonwav/nsynth-test/graphs/guitar_acoustic_030-087-075.png is a low contrast image\n",
      "  warn('%s is a low contrast image' % fname)\n"
     ]
    },
    {
     "name": "stdout",
     "output_type": "stream",
     "text": [
      "wrote file guitar_acoustic_030-090-075.png\n",
      "wrote file vocal_synthetic_003-041-127.png\n",
      "wrote file vocal_synthetic_003-050-075.png\n",
      "wrote file bass_synthetic_034-041-025.png\n",
      "wrote file bass_synthetic_034-058-025.png\n",
      "wrote file guitar_electronic_028-101-100.png\n",
      "wrote file bass_synthetic_098-043-075.png\n",
      "wrote file bass_synthetic_098-051-100.png\n",
      "wrote file bass_synthetic_098-063-127.png\n",
      "wrote file string_acoustic_012-038-127.png\n",
      "wrote file string_acoustic_012-043-127.png\n",
      "wrote file mallet_acoustic_056-077-025.png\n",
      "wrote file mallet_acoustic_056-091-127.png\n",
      "wrote file guitar_acoustic_010-042-100.png\n",
      "wrote file guitar_acoustic_010-051-100.png\n",
      "wrote file organ_electronic_007-063-050.png\n",
      "wrote file organ_electronic_007-069-075.png\n",
      "wrote file organ_electronic_007-080-075.png\n",
      "wrote file brass_acoustic_006-044-025.png\n",
      "wrote file brass_acoustic_006-049-075.png\n",
      "wrote file brass_acoustic_016-085-050.png\n",
      "wrote file brass_acoustic_046-057-100.png\n"
     ]
    },
    {
     "name": "stderr",
     "output_type": "stream",
     "text": [
      "/home/jamie/anaconda3/lib/python3.7/site-packages/skimage/io/_io.py:141: UserWarning: /media/jamie/My Passport/Data/NSYNTH/nsynth-test.jsonwav/nsynth-test/graphs/mallet_acoustic_062-107-050.png is a low contrast image\n",
      "  warn('%s is a low contrast image' % fname)\n",
      "/home/jamie/anaconda3/lib/python3.7/site-packages/skimage/io/_io.py:141: UserWarning: /media/jamie/My Passport/Data/NSYNTH/nsynth-test.jsonwav/nsynth-test/graphs/mallet_acoustic_062-108-050.png is a low contrast image\n",
      "  warn('%s is a low contrast image' % fname)\n"
     ]
    },
    {
     "name": "stdout",
     "output_type": "stream",
     "text": [
      "wrote file organ_electronic_001-039-025.png\n",
      "wrote file organ_electronic_001-048-127.png\n",
      "wrote file flute_synthetic_000-022-050.png\n",
      "wrote file flute_synthetic_000-028-050.png\n",
      "wrote file flute_synthetic_000-036-100.png\n",
      "wrote file string_acoustic_080-044-127.png\n",
      "wrote file string_acoustic_080-051-127.png\n",
      "wrote file organ_electronic_104-044-025.png\n",
      "wrote file organ_electronic_104-050-025.png\n",
      "wrote file bass_electronic_025-059-050.png\n",
      "wrote file keyboard_electronic_078-062-100.png\n",
      "wrote file keyboard_electronic_078-070-075.png\n",
      "wrote file keyboard_electronic_078-077-127.png\n",
      "wrote file reed_acoustic_011-057-075.png\n",
      "wrote file string_acoustic_057-061-050.png\n",
      "wrote file organ_electronic_028-079-050.png\n",
      "wrote file organ_electronic_028-085-127.png\n",
      "wrote file keyboard_electronic_001-061-075.png\n",
      "wrote file keyboard_electronic_001-071-025.png\n",
      "wrote file keyboard_acoustic_004-069-025.png\n",
      "wrote file keyboard_acoustic_004-074-100.png\n",
      "wrote file guitar_acoustic_014-067-100.png\n",
      "wrote file keyboard_electronic_002-086-075.png\n"
     ]
    },
    {
     "name": "stderr",
     "output_type": "stream",
     "text": [
      "/home/jamie/anaconda3/lib/python3.7/site-packages/skimage/io/_io.py:141: UserWarning: /media/jamie/My Passport/Data/NSYNTH/nsynth-test.jsonwav/nsynth-test/graphs/keyboard_electronic_002-097-025.png is a low contrast image\n",
      "  warn('%s is a low contrast image' % fname)\n",
      "/home/jamie/anaconda3/lib/python3.7/site-packages/skimage/io/_io.py:141: UserWarning: /media/jamie/My Passport/Data/NSYNTH/nsynth-test.jsonwav/nsynth-test/graphs/keyboard_electronic_002-097-050.png is a low contrast image\n",
      "  warn('%s is a low contrast image' % fname)\n",
      "/home/jamie/anaconda3/lib/python3.7/site-packages/skimage/io/_io.py:141: UserWarning: /media/jamie/My Passport/Data/NSYNTH/nsynth-test.jsonwav/nsynth-test/graphs/keyboard_electronic_002-098-075.png is a low contrast image\n",
      "  warn('%s is a low contrast image' % fname)\n",
      "/home/jamie/anaconda3/lib/python3.7/site-packages/skimage/io/_io.py:141: UserWarning: /media/jamie/My Passport/Data/NSYNTH/nsynth-test.jsonwav/nsynth-test/graphs/keyboard_electronic_002-101-025.png is a low contrast image\n",
      "  warn('%s is a low contrast image' % fname)\n"
     ]
    },
    {
     "name": "stdout",
     "output_type": "stream",
     "text": [
      "wrote file keyboard_electronic_002-101-025.png\n"
     ]
    },
    {
     "name": "stderr",
     "output_type": "stream",
     "text": [
      "/home/jamie/anaconda3/lib/python3.7/site-packages/skimage/io/_io.py:141: UserWarning: /media/jamie/My Passport/Data/NSYNTH/nsynth-test.jsonwav/nsynth-test/graphs/keyboard_electronic_002-102-050.png is a low contrast image\n",
      "  warn('%s is a low contrast image' % fname)\n",
      "/home/jamie/anaconda3/lib/python3.7/site-packages/skimage/io/_io.py:141: UserWarning: /media/jamie/My Passport/Data/NSYNTH/nsynth-test.jsonwav/nsynth-test/graphs/keyboard_electronic_002-102-075.png is a low contrast image\n",
      "  warn('%s is a low contrast image' % fname)\n",
      "/home/jamie/anaconda3/lib/python3.7/site-packages/skimage/io/_io.py:141: UserWarning: /media/jamie/My Passport/Data/NSYNTH/nsynth-test.jsonwav/nsynth-test/graphs/keyboard_electronic_002-103-050.png is a low contrast image\n",
      "  warn('%s is a low contrast image' % fname)\n",
      "/home/jamie/anaconda3/lib/python3.7/site-packages/skimage/io/_io.py:141: UserWarning: /media/jamie/My Passport/Data/NSYNTH/nsynth-test.jsonwav/nsynth-test/graphs/keyboard_electronic_002-104-025.png is a low contrast image\n",
      "  warn('%s is a low contrast image' % fname)\n",
      "/home/jamie/anaconda3/lib/python3.7/site-packages/skimage/io/_io.py:141: UserWarning: /media/jamie/My Passport/Data/NSYNTH/nsynth-test.jsonwav/nsynth-test/graphs/keyboard_electronic_002-105-050.png is a low contrast image\n",
      "  warn('%s is a low contrast image' % fname)\n",
      "/home/jamie/anaconda3/lib/python3.7/site-packages/skimage/io/_io.py:141: UserWarning: /media/jamie/My Passport/Data/NSYNTH/nsynth-test.jsonwav/nsynth-test/graphs/keyboard_electronic_002-105-100.png is a low contrast image\n",
      "  warn('%s is a low contrast image' % fname)\n"
     ]
    },
    {
     "name": "stdout",
     "output_type": "stream",
     "text": [
      "wrote file organ_electronic_057-056-025.png\n",
      "wrote file reed_acoustic_011-035-127.png\n",
      "wrote file reed_acoustic_037-049-127.png\n"
     ]
    },
    {
     "name": "stderr",
     "output_type": "stream",
     "text": [
      "/home/jamie/anaconda3/lib/python3.7/site-packages/skimage/io/_io.py:141: UserWarning: /media/jamie/My Passport/Data/NSYNTH/nsynth-test.jsonwav/nsynth-test/graphs/guitar_acoustic_015-088-127.png is a low contrast image\n",
      "  warn('%s is a low contrast image' % fname)\n"
     ]
    },
    {
     "name": "stdout",
     "output_type": "stream",
     "text": [
      "wrote file guitar_acoustic_015-088-127.png\n"
     ]
    },
    {
     "name": "stderr",
     "output_type": "stream",
     "text": [
      "/home/jamie/anaconda3/lib/python3.7/site-packages/skimage/io/_io.py:141: UserWarning: /media/jamie/My Passport/Data/NSYNTH/nsynth-test.jsonwav/nsynth-test/graphs/guitar_acoustic_015-090-127.png is a low contrast image\n",
      "  warn('%s is a low contrast image' % fname)\n"
     ]
    },
    {
     "name": "stdout",
     "output_type": "stream",
     "text": [
      "wrote file bass_synthetic_135-029-025.png\n",
      "wrote file bass_synthetic_135-040-075.png\n",
      "wrote file guitar_acoustic_010-098-100.png\n"
     ]
    },
    {
     "name": "stderr",
     "output_type": "stream",
     "text": [
      "/home/jamie/anaconda3/lib/python3.7/site-packages/skimage/io/_io.py:141: UserWarning: /media/jamie/My Passport/Data/NSYNTH/nsynth-test.jsonwav/nsynth-test/graphs/guitar_acoustic_014-101-050.png is a low contrast image\n",
      "  warn('%s is a low contrast image' % fname)\n"
     ]
    },
    {
     "name": "stdout",
     "output_type": "stream",
     "text": [
      "wrote file guitar_acoustic_015-074-100.png\n"
     ]
    },
    {
     "name": "stderr",
     "output_type": "stream",
     "text": [
      "/home/jamie/anaconda3/lib/python3.7/site-packages/skimage/io/_io.py:141: UserWarning: /media/jamie/My Passport/Data/NSYNTH/nsynth-test.jsonwav/nsynth-test/graphs/guitar_acoustic_015-091-127.png is a low contrast image\n",
      "  warn('%s is a low contrast image' % fname)\n"
     ]
    },
    {
     "name": "stdout",
     "output_type": "stream",
     "text": [
      "wrote file keyboard_electronic_001-098-025.png\n"
     ]
    },
    {
     "name": "stderr",
     "output_type": "stream",
     "text": [
      "/home/jamie/anaconda3/lib/python3.7/site-packages/skimage/io/_io.py:141: UserWarning: /media/jamie/My Passport/Data/NSYNTH/nsynth-test.jsonwav/nsynth-test/graphs/keyboard_synthetic_000-068-025.png is a low contrast image\n",
      "  warn('%s is a low contrast image' % fname)\n"
     ]
    },
    {
     "name": "stdout",
     "output_type": "stream",
     "text": [
      "wrote file bass_synthetic_009-069-050.png\n",
      "wrote file bass_synthetic_009-077-127.png\n"
     ]
    },
    {
     "name": "stderr",
     "output_type": "stream",
     "text": [
      "/home/jamie/anaconda3/lib/python3.7/site-packages/skimage/io/_io.py:141: UserWarning: /media/jamie/My Passport/Data/NSYNTH/nsynth-test.jsonwav/nsynth-test/graphs/keyboard_synthetic_000-069-100.png is a low contrast image\n",
      "  warn('%s is a low contrast image' % fname)\n",
      "/home/jamie/anaconda3/lib/python3.7/site-packages/skimage/io/_io.py:141: UserWarning: /media/jamie/My Passport/Data/NSYNTH/nsynth-test.jsonwav/nsynth-test/graphs/keyboard_synthetic_000-070-100.png is a low contrast image\n",
      "  warn('%s is a low contrast image' % fname)\n",
      "/home/jamie/anaconda3/lib/python3.7/site-packages/skimage/io/_io.py:141: UserWarning: /media/jamie/My Passport/Data/NSYNTH/nsynth-test.jsonwav/nsynth-test/graphs/keyboard_synthetic_000-071-127.png is a low contrast image\n",
      "  warn('%s is a low contrast image' % fname)\n"
     ]
    },
    {
     "name": "stdout",
     "output_type": "stream",
     "text": [
      "wrote file keyboard_synthetic_000-070-100.png\n"
     ]
    },
    {
     "name": "stderr",
     "output_type": "stream",
     "text": [
      "/home/jamie/anaconda3/lib/python3.7/site-packages/skimage/io/_io.py:141: UserWarning: /media/jamie/My Passport/Data/NSYNTH/nsynth-test.jsonwav/nsynth-test/graphs/keyboard_synthetic_000-073-025.png is a low contrast image\n",
      "  warn('%s is a low contrast image' % fname)\n",
      "/home/jamie/anaconda3/lib/python3.7/site-packages/skimage/io/_io.py:141: UserWarning: /media/jamie/My Passport/Data/NSYNTH/nsynth-test.jsonwav/nsynth-test/graphs/keyboard_synthetic_000-073-050.png is a low contrast image\n",
      "  warn('%s is a low contrast image' % fname)\n",
      "/home/jamie/anaconda3/lib/python3.7/site-packages/skimage/io/_io.py:141: UserWarning: /media/jamie/My Passport/Data/NSYNTH/nsynth-test.jsonwav/nsynth-test/graphs/keyboard_synthetic_000-073-075.png is a low contrast image\n",
      "  warn('%s is a low contrast image' % fname)\n",
      "/home/jamie/anaconda3/lib/python3.7/site-packages/skimage/io/_io.py:141: UserWarning: /media/jamie/My Passport/Data/NSYNTH/nsynth-test.jsonwav/nsynth-test/graphs/keyboard_synthetic_000-073-127.png is a low contrast image\n",
      "  warn('%s is a low contrast image' % fname)\n",
      "/home/jamie/anaconda3/lib/python3.7/site-packages/skimage/io/_io.py:141: UserWarning: /media/jamie/My Passport/Data/NSYNTH/nsynth-test.jsonwav/nsynth-test/graphs/keyboard_synthetic_000-074-100.png is a low contrast image\n",
      "  warn('%s is a low contrast image' % fname)\n",
      "/home/jamie/anaconda3/lib/python3.7/site-packages/skimage/io/_io.py:141: UserWarning: /media/jamie/My Passport/Data/NSYNTH/nsynth-test.jsonwav/nsynth-test/graphs/keyboard_synthetic_000-075-075.png is a low contrast image\n",
      "  warn('%s is a low contrast image' % fname)\n",
      "/home/jamie/anaconda3/lib/python3.7/site-packages/skimage/io/_io.py:141: UserWarning: /media/jamie/My Passport/Data/NSYNTH/nsynth-test.jsonwav/nsynth-test/graphs/keyboard_synthetic_000-076-025.png is a low contrast image\n",
      "  warn('%s is a low contrast image' % fname)\n",
      "/home/jamie/anaconda3/lib/python3.7/site-packages/skimage/io/_io.py:141: UserWarning: /media/jamie/My Passport/Data/NSYNTH/nsynth-test.jsonwav/nsynth-test/graphs/keyboard_synthetic_000-076-100.png is a low contrast image\n",
      "  warn('%s is a low contrast image' % fname)\n"
     ]
    },
    {
     "name": "stdout",
     "output_type": "stream",
     "text": [
      "wrote file keyboard_synthetic_000-075-075.png\n"
     ]
    },
    {
     "name": "stderr",
     "output_type": "stream",
     "text": [
      "/home/jamie/anaconda3/lib/python3.7/site-packages/skimage/io/_io.py:141: UserWarning: /media/jamie/My Passport/Data/NSYNTH/nsynth-test.jsonwav/nsynth-test/graphs/keyboard_synthetic_000-077-050.png is a low contrast image\n",
      "  warn('%s is a low contrast image' % fname)\n",
      "/home/jamie/anaconda3/lib/python3.7/site-packages/skimage/io/_io.py:141: UserWarning: /media/jamie/My Passport/Data/NSYNTH/nsynth-test.jsonwav/nsynth-test/graphs/keyboard_synthetic_000-080-100.png is a low contrast image\n",
      "  warn('%s is a low contrast image' % fname)\n",
      "/home/jamie/anaconda3/lib/python3.7/site-packages/skimage/io/_io.py:141: UserWarning: /media/jamie/My Passport/Data/NSYNTH/nsynth-test.jsonwav/nsynth-test/graphs/keyboard_synthetic_000-081-025.png is a low contrast image\n",
      "  warn('%s is a low contrast image' % fname)\n",
      "/home/jamie/anaconda3/lib/python3.7/site-packages/skimage/io/_io.py:141: UserWarning: /media/jamie/My Passport/Data/NSYNTH/nsynth-test.jsonwav/nsynth-test/graphs/keyboard_synthetic_000-082-025.png is a low contrast image\n",
      "  warn('%s is a low contrast image' % fname)\n",
      "/home/jamie/anaconda3/lib/python3.7/site-packages/skimage/io/_io.py:141: UserWarning: /media/jamie/My Passport/Data/NSYNTH/nsynth-test.jsonwav/nsynth-test/graphs/keyboard_synthetic_000-082-127.png is a low contrast image\n",
      "  warn('%s is a low contrast image' % fname)\n",
      "/home/jamie/anaconda3/lib/python3.7/site-packages/skimage/io/_io.py:141: UserWarning: /media/jamie/My Passport/Data/NSYNTH/nsynth-test.jsonwav/nsynth-test/graphs/keyboard_synthetic_000-083-025.png is a low contrast image\n",
      "  warn('%s is a low contrast image' % fname)\n",
      "/home/jamie/anaconda3/lib/python3.7/site-packages/skimage/io/_io.py:141: UserWarning: /media/jamie/My Passport/Data/NSYNTH/nsynth-test.jsonwav/nsynth-test/graphs/keyboard_synthetic_000-083-050.png is a low contrast image\n",
      "  warn('%s is a low contrast image' % fname)\n",
      "/home/jamie/anaconda3/lib/python3.7/site-packages/skimage/io/_io.py:141: UserWarning: /media/jamie/My Passport/Data/NSYNTH/nsynth-test.jsonwav/nsynth-test/graphs/keyboard_synthetic_000-083-075.png is a low contrast image\n",
      "  warn('%s is a low contrast image' % fname)\n"
     ]
    },
    {
     "name": "stdout",
     "output_type": "stream",
     "text": [
      "wrote file keyboard_synthetic_000-083-075.png\n",
      "wrote file bass_synthetic_033-082-100.png\n",
      "wrote file bass_synthetic_033-091-025.png\n",
      "wrote file reed_acoustic_037-054-127.png\n",
      "wrote file reed_acoustic_037-065-050.png\n",
      "wrote file keyboard_electronic_069-031-100.png\n",
      "wrote file keyboard_electronic_069-040-127.png\n",
      "wrote file keyboard_electronic_069-054-075.png\n",
      "wrote file guitar_electronic_022-049-050.png\n",
      "wrote file keyboard_electronic_098-088-025.png\n",
      "wrote file keyboard_electronic_098-097-075.png\n"
     ]
    },
    {
     "name": "stderr",
     "output_type": "stream",
     "text": [
      "/home/jamie/anaconda3/lib/python3.7/site-packages/skimage/io/_io.py:141: UserWarning: /media/jamie/My Passport/Data/NSYNTH/nsynth-test.jsonwav/nsynth-test/graphs/keyboard_electronic_098-100-075.png is a low contrast image\n",
      "  warn('%s is a low contrast image' % fname)\n",
      "/home/jamie/anaconda3/lib/python3.7/site-packages/skimage/io/_io.py:141: UserWarning: /media/jamie/My Passport/Data/NSYNTH/nsynth-test.jsonwav/nsynth-test/graphs/keyboard_electronic_098-101-025.png is a low contrast image\n",
      "  warn('%s is a low contrast image' % fname)\n",
      "/home/jamie/anaconda3/lib/python3.7/site-packages/skimage/io/_io.py:141: UserWarning: /media/jamie/My Passport/Data/NSYNTH/nsynth-test.jsonwav/nsynth-test/graphs/keyboard_electronic_098-102-127.png is a low contrast image\n",
      "  warn('%s is a low contrast image' % fname)\n",
      "/home/jamie/anaconda3/lib/python3.7/site-packages/skimage/io/_io.py:141: UserWarning: /media/jamie/My Passport/Data/NSYNTH/nsynth-test.jsonwav/nsynth-test/graphs/keyboard_electronic_098-103-050.png is a low contrast image\n",
      "  warn('%s is a low contrast image' % fname)\n",
      "/home/jamie/anaconda3/lib/python3.7/site-packages/skimage/io/_io.py:141: UserWarning: /media/jamie/My Passport/Data/NSYNTH/nsynth-test.jsonwav/nsynth-test/graphs/keyboard_electronic_098-104-025.png is a low contrast image\n",
      "  warn('%s is a low contrast image' % fname)\n",
      "/home/jamie/anaconda3/lib/python3.7/site-packages/skimage/io/_io.py:141: UserWarning: /media/jamie/My Passport/Data/NSYNTH/nsynth-test.jsonwav/nsynth-test/graphs/keyboard_electronic_098-104-075.png is a low contrast image\n",
      "  warn('%s is a low contrast image' % fname)\n",
      "/home/jamie/anaconda3/lib/python3.7/site-packages/skimage/io/_io.py:141: UserWarning: /media/jamie/My Passport/Data/NSYNTH/nsynth-test.jsonwav/nsynth-test/graphs/keyboard_electronic_098-105-100.png is a low contrast image\n",
      "  warn('%s is a low contrast image' % fname)\n"
     ]
    },
    {
     "name": "stdout",
     "output_type": "stream",
     "text": [
      "wrote file guitar_acoustic_021-071-127.png\n",
      "wrote file guitar_acoustic_021-080-100.png\n",
      "wrote file vocal_synthetic_003-073-050.png\n",
      "wrote file brass_acoustic_046-086-025.png\n",
      "wrote file brass_acoustic_046-094-100.png\n",
      "wrote file brass_acoustic_046-098-025.png\n",
      "wrote file organ_electronic_007-025-075.png\n",
      "wrote file organ_electronic_007-034-075.png\n",
      "wrote file brass_acoustic_006-072-050.png\n",
      "wrote file brass_acoustic_006-079-127.png\n",
      "wrote file bass_synthetic_134-032-050.png\n",
      "wrote file guitar_acoustic_010-076-050.png\n",
      "wrote file guitar_acoustic_010-082-127.png\n",
      "wrote file flute_synthetic_000-097-025.png\n",
      "wrote file flute_synthetic_000-104-050.png\n",
      "wrote file bass_electronic_027-039-100.png\n",
      "wrote file bass_electronic_027-047-075.png\n",
      "wrote file mallet_acoustic_047-100-127.png\n",
      "wrote file mallet_acoustic_047-107-100.png\n"
     ]
    },
    {
     "name": "stderr",
     "output_type": "stream",
     "text": [
      "/home/jamie/anaconda3/lib/python3.7/site-packages/skimage/io/_io.py:141: UserWarning: /media/jamie/My Passport/Data/NSYNTH/nsynth-test.jsonwav/nsynth-test/graphs/bass_synthetic_068-106-025.png is a low contrast image\n",
      "  warn('%s is a low contrast image' % fname)\n",
      "/home/jamie/anaconda3/lib/python3.7/site-packages/skimage/io/_io.py:141: UserWarning: /media/jamie/My Passport/Data/NSYNTH/nsynth-test.jsonwav/nsynth-test/graphs/bass_synthetic_068-106-075.png is a low contrast image\n",
      "  warn('%s is a low contrast image' % fname)\n",
      "/home/jamie/anaconda3/lib/python3.7/site-packages/skimage/io/_io.py:141: UserWarning: /media/jamie/My Passport/Data/NSYNTH/nsynth-test.jsonwav/nsynth-test/graphs/bass_synthetic_068-107-050.png is a low contrast image\n",
      "  warn('%s is a low contrast image' % fname)\n",
      "/home/jamie/anaconda3/lib/python3.7/site-packages/skimage/io/_io.py:141: UserWarning: /media/jamie/My Passport/Data/NSYNTH/nsynth-test.jsonwav/nsynth-test/graphs/bass_synthetic_068-107-075.png is a low contrast image\n",
      "  warn('%s is a low contrast image' % fname)\n",
      "/home/jamie/anaconda3/lib/python3.7/site-packages/skimage/io/_io.py:141: UserWarning: /media/jamie/My Passport/Data/NSYNTH/nsynth-test.jsonwav/nsynth-test/graphs/bass_synthetic_068-107-100.png is a low contrast image\n",
      "  warn('%s is a low contrast image' % fname)\n",
      "/home/jamie/anaconda3/lib/python3.7/site-packages/skimage/io/_io.py:141: UserWarning: /media/jamie/My Passport/Data/NSYNTH/nsynth-test.jsonwav/nsynth-test/graphs/bass_synthetic_068-108-050.png is a low contrast image\n",
      "  warn('%s is a low contrast image' % fname)\n"
     ]
    },
    {
     "name": "stdout",
     "output_type": "stream",
     "text": [
      "wrote file bass_synthetic_098-024-025.png\n",
      "wrote file string_acoustic_014-034-100.png\n",
      "wrote file string_acoustic_014-039-075.png\n",
      "wrote file guitar_electronic_028-068-050.png\n",
      "wrote file guitar_electronic_028-076-025.png\n",
      "wrote file reed_acoustic_023-050-025.png\n",
      "wrote file reed_acoustic_023-057-075.png\n",
      "wrote file mallet_acoustic_062-039-025.png\n",
      "wrote file mallet_acoustic_062-048-050.png\n",
      "wrote file bass_synthetic_068-032-127.png\n",
      "wrote file bass_synthetic_068-039-050.png\n",
      "wrote file keyboard_electronic_002-040-025.png\n",
      "wrote file keyboard_electronic_002-049-127.png\n",
      "wrote file keyboard_acoustic_004-038-025.png\n",
      "wrote file bass_electronic_025-032-127.png\n",
      "wrote file bass_electronic_025-043-025.png\n",
      "wrote file string_acoustic_057-081-127.png\n",
      "wrote file string_acoustic_057-090-025.png\n",
      "wrote file bass_synthetic_135-104-075.png\n",
      "wrote file keyboard_electronic_098-036-100.png\n",
      "wrote file keyboard_electronic_098-044-100.png\n",
      "wrote file keyboard_electronic_098-057-075.png\n",
      "wrote file flute_acoustic_002-084-025.png\n",
      "wrote file flute_acoustic_002-091-075.png\n",
      "wrote file vocal_acoustic_000-057-127.png\n",
      "wrote file keyboard_electronic_003-045-075.png\n",
      "wrote file keyboard_electronic_003-053-127.png\n",
      "wrote file keyboard_electronic_003-063-075.png\n",
      "wrote file organ_electronic_113-082-075.png\n"
     ]
    },
    {
     "name": "stderr",
     "output_type": "stream",
     "text": [
      "/home/jamie/anaconda3/lib/python3.7/site-packages/skimage/io/_io.py:141: UserWarning: /media/jamie/My Passport/Data/NSYNTH/nsynth-test.jsonwav/nsynth-test/graphs/guitar_acoustic_014-090-050.png is a low contrast image\n",
      "  warn('%s is a low contrast image' % fname)\n",
      "/home/jamie/anaconda3/lib/python3.7/site-packages/skimage/io/_io.py:141: UserWarning: /media/jamie/My Passport/Data/NSYNTH/nsynth-test.jsonwav/nsynth-test/graphs/guitar_acoustic_014-090-075.png is a low contrast image\n",
      "  warn('%s is a low contrast image' % fname)\n",
      "/home/jamie/anaconda3/lib/python3.7/site-packages/skimage/io/_io.py:141: UserWarning: /media/jamie/My Passport/Data/NSYNTH/nsynth-test.jsonwav/nsynth-test/graphs/guitar_acoustic_014-092-100.png is a low contrast image\n",
      "  warn('%s is a low contrast image' % fname)\n"
     ]
    },
    {
     "name": "stdout",
     "output_type": "stream",
     "text": [
      "wrote file guitar_acoustic_014-090-050.png\n"
     ]
    },
    {
     "name": "stderr",
     "output_type": "stream",
     "text": [
      "/home/jamie/anaconda3/lib/python3.7/site-packages/skimage/io/_io.py:141: UserWarning: /media/jamie/My Passport/Data/NSYNTH/nsynth-test.jsonwav/nsynth-test/graphs/guitar_acoustic_014-093-075.png is a low contrast image\n",
      "  warn('%s is a low contrast image' % fname)\n",
      "/home/jamie/anaconda3/lib/python3.7/site-packages/skimage/io/_io.py:141: UserWarning: /media/jamie/My Passport/Data/NSYNTH/nsynth-test.jsonwav/nsynth-test/graphs/guitar_acoustic_014-094-050.png is a low contrast image\n",
      "  warn('%s is a low contrast image' % fname)\n",
      "/home/jamie/anaconda3/lib/python3.7/site-packages/skimage/io/_io.py:141: UserWarning: /media/jamie/My Passport/Data/NSYNTH/nsynth-test.jsonwav/nsynth-test/graphs/guitar_acoustic_014-094-100.png is a low contrast image\n",
      "  warn('%s is a low contrast image' % fname)\n",
      "/home/jamie/anaconda3/lib/python3.7/site-packages/skimage/io/_io.py:141: UserWarning: /media/jamie/My Passport/Data/NSYNTH/nsynth-test.jsonwav/nsynth-test/graphs/guitar_acoustic_014-095-127.png is a low contrast image\n",
      "  warn('%s is a low contrast image' % fname)\n",
      "/home/jamie/anaconda3/lib/python3.7/site-packages/skimage/io/_io.py:141: UserWarning: /media/jamie/My Passport/Data/NSYNTH/nsynth-test.jsonwav/nsynth-test/graphs/guitar_acoustic_014-096-075.png is a low contrast image\n",
      "  warn('%s is a low contrast image' % fname)\n",
      "/home/jamie/anaconda3/lib/python3.7/site-packages/skimage/io/_io.py:141: UserWarning: /media/jamie/My Passport/Data/NSYNTH/nsynth-test.jsonwav/nsynth-test/graphs/guitar_acoustic_014-097-075.png is a low contrast image\n",
      "  warn('%s is a low contrast image' % fname)\n",
      "/home/jamie/anaconda3/lib/python3.7/site-packages/skimage/io/_io.py:141: UserWarning: /media/jamie/My Passport/Data/NSYNTH/nsynth-test.jsonwav/nsynth-test/graphs/guitar_acoustic_014-097-127.png is a low contrast image\n",
      "  warn('%s is a low contrast image' % fname)\n",
      "/home/jamie/anaconda3/lib/python3.7/site-packages/skimage/io/_io.py:141: UserWarning: /media/jamie/My Passport/Data/NSYNTH/nsynth-test.jsonwav/nsynth-test/graphs/guitar_acoustic_014-099-025.png is a low contrast image\n",
      "  warn('%s is a low contrast image' % fname)\n",
      "/home/jamie/anaconda3/lib/python3.7/site-packages/skimage/io/_io.py:141: UserWarning: /media/jamie/My Passport/Data/NSYNTH/nsynth-test.jsonwav/nsynth-test/graphs/guitar_acoustic_014-099-050.png is a low contrast image\n",
      "  warn('%s is a low contrast image' % fname)\n",
      "/home/jamie/anaconda3/lib/python3.7/site-packages/skimage/io/_io.py:141: UserWarning: /media/jamie/My Passport/Data/NSYNTH/nsynth-test.jsonwav/nsynth-test/graphs/guitar_acoustic_014-100-127.png is a low contrast image\n",
      "  warn('%s is a low contrast image' % fname)\n"
     ]
    },
    {
     "name": "stdout",
     "output_type": "stream",
     "text": [
      "wrote file guitar_acoustic_014-099-025.png\n",
      "wrote file bass_synthetic_098-073-100.png\n",
      "wrote file bass_synthetic_098-087-127.png\n",
      "wrote file string_acoustic_056-062-075.png\n",
      "wrote file organ_electronic_028-103-050.png\n",
      "wrote file organ_electronic_057-026-075.png\n",
      "wrote file organ_electronic_057-037-075.png\n",
      "wrote file reed_acoustic_018-055-100.png\n",
      "wrote file reed_acoustic_018-063-050.png\n",
      "wrote file organ_electronic_104-078-050.png\n",
      "wrote file string_acoustic_071-051-127.png\n",
      "wrote file string_acoustic_080-026-050.png\n",
      "wrote file string_acoustic_080-034-100.png\n",
      "wrote file bass_synthetic_009-042-127.png\n",
      "wrote file bass_synthetic_134-037-075.png\n",
      "wrote file brass_acoustic_006-027-100.png\n",
      "wrote file organ_electronic_028-062-050.png\n",
      "wrote file flute_synthetic_000-039-100.png\n",
      "wrote file flute_synthetic_000-045-127.png\n",
      "wrote file guitar_electronic_022-077-127.png\n",
      "wrote file guitar_acoustic_014-034-075.png\n",
      "wrote file guitar_acoustic_014-042-127.png\n",
      "wrote file brass_acoustic_016-055-050.png\n",
      "wrote file mallet_acoustic_062-081-127.png\n",
      "wrote file mallet_acoustic_062-086-127.png\n"
     ]
    },
    {
     "name": "stderr",
     "output_type": "stream",
     "text": [
      "/home/jamie/anaconda3/lib/python3.7/site-packages/skimage/io/_io.py:141: UserWarning: /media/jamie/My Passport/Data/NSYNTH/nsynth-test.jsonwav/nsynth-test/graphs/mallet_acoustic_062-088-050.png is a low contrast image\n",
      "  warn('%s is a low contrast image' % fname)\n",
      "/home/jamie/anaconda3/lib/python3.7/site-packages/skimage/io/_io.py:141: UserWarning: /media/jamie/My Passport/Data/NSYNTH/nsynth-test.jsonwav/nsynth-test/graphs/mallet_acoustic_062-089-050.png is a low contrast image\n",
      "  warn('%s is a low contrast image' % fname)\n",
      "/home/jamie/anaconda3/lib/python3.7/site-packages/skimage/io/_io.py:141: UserWarning: /media/jamie/My Passport/Data/NSYNTH/nsynth-test.jsonwav/nsynth-test/graphs/guitar_acoustic_021-096-100.png is a low contrast image\n",
      "  warn('%s is a low contrast image' % fname)\n",
      "/home/jamie/anaconda3/lib/python3.7/site-packages/skimage/io/_io.py:141: UserWarning: /media/jamie/My Passport/Data/NSYNTH/nsynth-test.jsonwav/nsynth-test/graphs/guitar_acoustic_021-097-075.png is a low contrast image\n",
      "  warn('%s is a low contrast image' % fname)\n",
      "/home/jamie/anaconda3/lib/python3.7/site-packages/skimage/io/_io.py:141: UserWarning: /media/jamie/My Passport/Data/NSYNTH/nsynth-test.jsonwav/nsynth-test/graphs/guitar_acoustic_021-098-025.png is a low contrast image\n",
      "  warn('%s is a low contrast image' % fname)\n",
      "/home/jamie/anaconda3/lib/python3.7/site-packages/skimage/io/_io.py:141: UserWarning: /media/jamie/My Passport/Data/NSYNTH/nsynth-test.jsonwav/nsynth-test/graphs/guitar_acoustic_021-098-075.png is a low contrast image\n",
      "  warn('%s is a low contrast image' % fname)\n",
      "/home/jamie/anaconda3/lib/python3.7/site-packages/skimage/io/_io.py:141: UserWarning: /media/jamie/My Passport/Data/NSYNTH/nsynth-test.jsonwav/nsynth-test/graphs/guitar_acoustic_021-099-050.png is a low contrast image\n",
      "  warn('%s is a low contrast image' % fname)\n",
      "/home/jamie/anaconda3/lib/python3.7/site-packages/skimage/io/_io.py:141: UserWarning: /media/jamie/My Passport/Data/NSYNTH/nsynth-test.jsonwav/nsynth-test/graphs/guitar_acoustic_021-099-075.png is a low contrast image\n",
      "  warn('%s is a low contrast image' % fname)\n",
      "/home/jamie/anaconda3/lib/python3.7/site-packages/skimage/io/_io.py:141: UserWarning: /media/jamie/My Passport/Data/NSYNTH/nsynth-test.jsonwav/nsynth-test/graphs/guitar_acoustic_021-099-100.png is a low contrast image\n",
      "  warn('%s is a low contrast image' % fname)\n",
      "/home/jamie/anaconda3/lib/python3.7/site-packages/skimage/io/_io.py:141: UserWarning: /media/jamie/My Passport/Data/NSYNTH/nsynth-test.jsonwav/nsynth-test/graphs/guitar_acoustic_021-100-050.png is a low contrast image\n",
      "  warn('%s is a low contrast image' % fname)\n",
      "/home/jamie/anaconda3/lib/python3.7/site-packages/skimage/io/_io.py:141: UserWarning: /media/jamie/My Passport/Data/NSYNTH/nsynth-test.jsonwav/nsynth-test/graphs/guitar_acoustic_021-100-075.png is a low contrast image\n",
      "  warn('%s is a low contrast image' % fname)\n"
     ]
    },
    {
     "name": "stdout",
     "output_type": "stream",
     "text": [
      "wrote file guitar_acoustic_021-099-075.png\n"
     ]
    },
    {
     "name": "stderr",
     "output_type": "stream",
     "text": [
      "/home/jamie/anaconda3/lib/python3.7/site-packages/skimage/io/_io.py:141: UserWarning: /media/jamie/My Passport/Data/NSYNTH/nsynth-test.jsonwav/nsynth-test/graphs/guitar_acoustic_021-100-100.png is a low contrast image\n",
      "  warn('%s is a low contrast image' % fname)\n",
      "/home/jamie/anaconda3/lib/python3.7/site-packages/skimage/io/_io.py:141: UserWarning: /media/jamie/My Passport/Data/NSYNTH/nsynth-test.jsonwav/nsynth-test/graphs/guitar_acoustic_021-101-100.png is a low contrast image\n",
      "  warn('%s is a low contrast image' % fname)\n",
      "/home/jamie/anaconda3/lib/python3.7/site-packages/skimage/io/_io.py:141: UserWarning: /media/jamie/My Passport/Data/NSYNTH/nsynth-test.jsonwav/nsynth-test/graphs/guitar_acoustic_021-102-025.png is a low contrast image\n",
      "  warn('%s is a low contrast image' % fname)\n",
      "/home/jamie/anaconda3/lib/python3.7/site-packages/skimage/io/_io.py:141: UserWarning: /media/jamie/My Passport/Data/NSYNTH/nsynth-test.jsonwav/nsynth-test/graphs/guitar_acoustic_021-103-075.png is a low contrast image\n",
      "  warn('%s is a low contrast image' % fname)\n",
      "/home/jamie/anaconda3/lib/python3.7/site-packages/skimage/io/_io.py:141: UserWarning: /media/jamie/My Passport/Data/NSYNTH/nsynth-test.jsonwav/nsynth-test/graphs/guitar_acoustic_021-104-100.png is a low contrast image\n",
      "  warn('%s is a low contrast image' % fname)\n",
      "/home/jamie/anaconda3/lib/python3.7/site-packages/skimage/io/_io.py:141: UserWarning: /media/jamie/My Passport/Data/NSYNTH/nsynth-test.jsonwav/nsynth-test/graphs/guitar_acoustic_021-106-100.png is a low contrast image\n",
      "  warn('%s is a low contrast image' % fname)\n"
     ]
    },
    {
     "name": "stdout",
     "output_type": "stream",
     "text": [
      "wrote file guitar_acoustic_021-107-025.png\n"
     ]
    },
    {
     "name": "stderr",
     "output_type": "stream",
     "text": [
      "/home/jamie/anaconda3/lib/python3.7/site-packages/skimage/io/_io.py:141: UserWarning: /media/jamie/My Passport/Data/NSYNTH/nsynth-test.jsonwav/nsynth-test/graphs/guitar_acoustic_021-108-075.png is a low contrast image\n",
      "  warn('%s is a low contrast image' % fname)\n"
     ]
    },
    {
     "name": "stdout",
     "output_type": "stream",
     "text": [
      "wrote file guitar_acoustic_030-040-127.png\n",
      "wrote file keyboard_electronic_069-061-050.png\n",
      "wrote file keyboard_electronic_069-070-127.png\n",
      "wrote file organ_electronic_007-043-100.png\n",
      "wrote file organ_electronic_007-055-050.png\n",
      "wrote file keyboard_synthetic_000-084-100.png\n"
     ]
    },
    {
     "name": "stderr",
     "output_type": "stream",
     "text": [
      "/home/jamie/anaconda3/lib/python3.7/site-packages/skimage/io/_io.py:141: UserWarning: /media/jamie/My Passport/Data/NSYNTH/nsynth-test.jsonwav/nsynth-test/graphs/keyboard_synthetic_000-100-075.png is a low contrast image\n",
      "  warn('%s is a low contrast image' % fname)\n"
     ]
    },
    {
     "name": "stdout",
     "output_type": "stream",
     "text": [
      "wrote file mallet_acoustic_062-079-075.png\n"
     ]
    },
    {
     "name": "stderr",
     "output_type": "stream",
     "text": [
      "/home/jamie/anaconda3/lib/python3.7/site-packages/skimage/io/_io.py:141: UserWarning: /media/jamie/My Passport/Data/NSYNTH/nsynth-test.jsonwav/nsynth-test/graphs/mallet_acoustic_062-090-050.png is a low contrast image\n",
      "  warn('%s is a low contrast image' % fname)\n",
      "/home/jamie/anaconda3/lib/python3.7/site-packages/skimage/io/_io.py:141: UserWarning: /media/jamie/My Passport/Data/NSYNTH/nsynth-test.jsonwav/nsynth-test/graphs/mallet_acoustic_062-106-025.png is a low contrast image\n",
      "  warn('%s is a low contrast image' % fname)\n"
     ]
    },
    {
     "name": "stdout",
     "output_type": "stream",
     "text": [
      "wrote file organ_electronic_028-025-025.png\n",
      "wrote file guitar_acoustic_021-022-075.png\n",
      "wrote file guitar_acoustic_021-031-127.png\n",
      "wrote file guitar_acoustic_015-055-075.png\n",
      "wrote file guitar_acoustic_015-063-127.png\n",
      "wrote file guitar_acoustic_015-074-075.png\n"
     ]
    },
    {
     "name": "stderr",
     "output_type": "stream",
     "text": [
      "/home/jamie/anaconda3/lib/python3.7/site-packages/skimage/io/_io.py:141: UserWarning: /media/jamie/My Passport/Data/NSYNTH/nsynth-test.jsonwav/nsynth-test/graphs/keyboard_electronic_098-107-050.png is a low contrast image\n",
      "  warn('%s is a low contrast image' % fname)\n",
      "/home/jamie/anaconda3/lib/python3.7/site-packages/skimage/io/_io.py:141: UserWarning: /media/jamie/My Passport/Data/NSYNTH/nsynth-test.jsonwav/nsynth-test/graphs/keyboard_electronic_098-108-100.png is a low contrast image\n",
      "  warn('%s is a low contrast image' % fname)\n",
      "/home/jamie/anaconda3/lib/python3.7/site-packages/skimage/io/_io.py:141: UserWarning: /media/jamie/My Passport/Data/NSYNTH/nsynth-test.jsonwav/nsynth-test/graphs/keyboard_synthetic_000-026-050.png is a low contrast image\n",
      "  warn('%s is a low contrast image' % fname)\n",
      "/home/jamie/anaconda3/lib/python3.7/site-packages/skimage/io/_io.py:141: UserWarning: /media/jamie/My Passport/Data/NSYNTH/nsynth-test.jsonwav/nsynth-test/graphs/keyboard_synthetic_000-027-050.png is a low contrast image\n",
      "  warn('%s is a low contrast image' % fname)\n",
      "/home/jamie/anaconda3/lib/python3.7/site-packages/skimage/io/_io.py:141: UserWarning: /media/jamie/My Passport/Data/NSYNTH/nsynth-test.jsonwav/nsynth-test/graphs/keyboard_synthetic_000-027-075.png is a low contrast image\n",
      "  warn('%s is a low contrast image' % fname)\n"
     ]
    },
    {
     "name": "stdout",
     "output_type": "stream",
     "text": [
      "wrote file keyboard_synthetic_000-027-050.png\n"
     ]
    },
    {
     "name": "stderr",
     "output_type": "stream",
     "text": [
      "/home/jamie/anaconda3/lib/python3.7/site-packages/skimage/io/_io.py:141: UserWarning: /media/jamie/My Passport/Data/NSYNTH/nsynth-test.jsonwav/nsynth-test/graphs/keyboard_synthetic_000-027-127.png is a low contrast image\n",
      "  warn('%s is a low contrast image' % fname)\n",
      "/home/jamie/anaconda3/lib/python3.7/site-packages/skimage/io/_io.py:141: UserWarning: /media/jamie/My Passport/Data/NSYNTH/nsynth-test.jsonwav/nsynth-test/graphs/keyboard_synthetic_000-032-025.png is a low contrast image\n",
      "  warn('%s is a low contrast image' % fname)\n",
      "/home/jamie/anaconda3/lib/python3.7/site-packages/skimage/io/_io.py:141: UserWarning: /media/jamie/My Passport/Data/NSYNTH/nsynth-test.jsonwav/nsynth-test/graphs/keyboard_synthetic_000-032-050.png is a low contrast image\n",
      "  warn('%s is a low contrast image' % fname)\n",
      "/home/jamie/anaconda3/lib/python3.7/site-packages/skimage/io/_io.py:141: UserWarning: /media/jamie/My Passport/Data/NSYNTH/nsynth-test.jsonwav/nsynth-test/graphs/keyboard_synthetic_000-033-025.png is a low contrast image\n",
      "  warn('%s is a low contrast image' % fname)\n",
      "/home/jamie/anaconda3/lib/python3.7/site-packages/skimage/io/_io.py:141: UserWarning: /media/jamie/My Passport/Data/NSYNTH/nsynth-test.jsonwav/nsynth-test/graphs/keyboard_synthetic_000-033-127.png is a low contrast image\n",
      "  warn('%s is a low contrast image' % fname)\n"
     ]
    },
    {
     "name": "stdout",
     "output_type": "stream",
     "text": [
      "wrote file keyboard_synthetic_000-033-127.png\n",
      "wrote file bass_synthetic_033-064-025.png\n",
      "wrote file bass_synthetic_033-072-075.png\n",
      "wrote file vocal_synthetic_003-096-050.png\n",
      "wrote file keyboard_acoustic_004-087-025.png\n",
      "wrote file keyboard_acoustic_004-096-100.png\n",
      "wrote file bass_synthetic_009-089-050.png\n",
      "wrote file bass_synthetic_009-094-127.png\n",
      "wrote file bass_synthetic_033-029-050.png\n",
      "wrote file keyboard_electronic_001-087-050.png\n",
      "wrote file guitar_acoustic_021-082-127.png\n"
     ]
    },
    {
     "name": "stderr",
     "output_type": "stream",
     "text": [
      "/home/jamie/anaconda3/lib/python3.7/site-packages/skimage/io/_io.py:141: UserWarning: /media/jamie/My Passport/Data/NSYNTH/nsynth-test.jsonwav/nsynth-test/graphs/guitar_acoustic_021-094-127.png is a low contrast image\n",
      "  warn('%s is a low contrast image' % fname)\n"
     ]
    },
    {
     "name": "stdout",
     "output_type": "stream",
     "text": [
      "wrote file guitar_electronic_028-067-025.png\n",
      "wrote file keyboard_acoustic_004-105-025.png\n",
      "wrote file keyboard_electronic_001-047-127.png\n",
      "wrote file keyboard_electronic_078-040-050.png\n",
      "wrote file keyboard_electronic_078-049-025.png\n",
      "wrote file guitar_acoustic_021-062-075.png\n",
      "wrote file guitar_acoustic_021-071-050.png\n",
      "wrote file organ_electronic_007-090-050.png\n",
      "wrote file organ_electronic_028-024-075.png\n",
      "wrote file organ_electronic_057-074-050.png\n",
      "wrote file keyboard_electronic_078-079-100.png\n",
      "wrote file keyboard_electronic_078-088-100.png\n",
      "wrote file keyboard_electronic_098-034-100.png\n",
      "wrote file bass_synthetic_068-094-127.png\n"
     ]
    },
    {
     "name": "stderr",
     "output_type": "stream",
     "text": [
      "/home/jamie/anaconda3/lib/python3.7/site-packages/skimage/io/_io.py:141: UserWarning: /media/jamie/My Passport/Data/NSYNTH/nsynth-test.jsonwav/nsynth-test/graphs/bass_synthetic_068-100-050.png is a low contrast image\n",
      "  warn('%s is a low contrast image' % fname)\n",
      "/home/jamie/anaconda3/lib/python3.7/site-packages/skimage/io/_io.py:141: UserWarning: /media/jamie/My Passport/Data/NSYNTH/nsynth-test.jsonwav/nsynth-test/graphs/bass_synthetic_068-101-025.png is a low contrast image\n",
      "  warn('%s is a low contrast image' % fname)\n",
      "/home/jamie/anaconda3/lib/python3.7/site-packages/skimage/io/_io.py:141: UserWarning: /media/jamie/My Passport/Data/NSYNTH/nsynth-test.jsonwav/nsynth-test/graphs/bass_synthetic_068-103-100.png is a low contrast image\n",
      "  warn('%s is a low contrast image' % fname)\n",
      "/home/jamie/anaconda3/lib/python3.7/site-packages/skimage/io/_io.py:141: UserWarning: /media/jamie/My Passport/Data/NSYNTH/nsynth-test.jsonwav/nsynth-test/graphs/bass_synthetic_068-104-025.png is a low contrast image\n",
      "  warn('%s is a low contrast image' % fname)\n",
      "/home/jamie/anaconda3/lib/python3.7/site-packages/skimage/io/_io.py:141: UserWarning: /media/jamie/My Passport/Data/NSYNTH/nsynth-test.jsonwav/nsynth-test/graphs/bass_synthetic_068-105-100.png is a low contrast image\n",
      "  warn('%s is a low contrast image' % fname)\n"
     ]
    },
    {
     "name": "stdout",
     "output_type": "stream",
     "text": [
      "wrote file keyboard_electronic_002-063-050.png\n",
      "wrote file keyboard_electronic_002-072-075.png\n",
      "wrote file reed_acoustic_037-073-075.png\n",
      "wrote file string_acoustic_012-028-075.png\n",
      "wrote file string_acoustic_014-064-075.png\n"
     ]
    },
    {
     "name": "stderr",
     "output_type": "stream",
     "text": [
      "/home/jamie/anaconda3/lib/python3.7/site-packages/skimage/io/_io.py:141: UserWarning: /media/jamie/My Passport/Data/NSYNTH/nsynth-test.jsonwav/nsynth-test/graphs/string_acoustic_056-079-127.png is a low contrast image\n",
      "  warn('%s is a low contrast image' % fname)\n"
     ]
    },
    {
     "name": "stdout",
     "output_type": "stream",
     "text": [
      "wrote file string_acoustic_080-036-100.png\n",
      "wrote file bass_synthetic_135-059-025.png\n",
      "wrote file bass_synthetic_135-065-075.png\n",
      "wrote file keyboard_electronic_002-023-127.png\n",
      "wrote file keyboard_electronic_002-033-025.png\n",
      "wrote file bass_electronic_018-045-075.png\n",
      "wrote file bass_electronic_018-054-100.png\n",
      "wrote file string_acoustic_014-054-127.png\n",
      "wrote file string_acoustic_014-062-075.png\n",
      "wrote file guitar_acoustic_010-061-025.png\n",
      "wrote file guitar_acoustic_010-068-075.png\n"
     ]
    },
    {
     "name": "stderr",
     "output_type": "stream",
     "text": [
      "/home/jamie/anaconda3/lib/python3.7/site-packages/skimage/io/_io.py:141: UserWarning: /media/jamie/My Passport/Data/NSYNTH/nsynth-test.jsonwav/nsynth-test/graphs/guitar_acoustic_030-096-050.png is a low contrast image\n",
      "  warn('%s is a low contrast image' % fname)\n",
      "/home/jamie/anaconda3/lib/python3.7/site-packages/skimage/io/_io.py:141: UserWarning: /media/jamie/My Passport/Data/NSYNTH/nsynth-test.jsonwav/nsynth-test/graphs/guitar_acoustic_030-099-025.png is a low contrast image\n",
      "  warn('%s is a low contrast image' % fname)\n",
      "/home/jamie/anaconda3/lib/python3.7/site-packages/skimage/io/_io.py:141: UserWarning: /media/jamie/My Passport/Data/NSYNTH/nsynth-test.jsonwav/nsynth-test/graphs/guitar_acoustic_030-101-050.png is a low contrast image\n",
      "  warn('%s is a low contrast image' % fname)\n",
      "/home/jamie/anaconda3/lib/python3.7/site-packages/skimage/io/_io.py:141: UserWarning: /media/jamie/My Passport/Data/NSYNTH/nsynth-test.jsonwav/nsynth-test/graphs/guitar_acoustic_030-105-025.png is a low contrast image\n",
      "  warn('%s is a low contrast image' % fname)\n"
     ]
    },
    {
     "name": "stdout",
     "output_type": "stream",
     "text": [
      "wrote file guitar_acoustic_030-101-050.png\n",
      "wrote file guitar_electronic_022-032-127.png\n",
      "wrote file bass_electronic_027-052-025.png\n",
      "wrote file bass_electronic_027-058-075.png\n",
      "wrote file bass_synthetic_009-014-025.png\n",
      "wrote file flute_synthetic_000-077-075.png\n",
      "wrote file flute_synthetic_000-086-025.png\n",
      "wrote file brass_acoustic_046-061-025.png\n",
      "wrote file brass_acoustic_046-071-025.png\n",
      "wrote file brass_acoustic_046-084-025.png\n",
      "wrote file mallet_acoustic_047-084-075.png\n",
      "wrote file mallet_acoustic_047-093-100.png\n",
      "wrote file brass_acoustic_046-106-025.png\n",
      "wrote file brass_acoustic_059-037-075.png\n",
      "wrote file organ_electronic_001-090-050.png\n",
      "wrote file organ_electronic_007-010-075.png\n",
      "wrote file bass_synthetic_134-052-050.png\n",
      "wrote file bass_synthetic_134-061-050.png\n",
      "wrote file string_acoustic_012-049-025.png\n",
      "wrote file string_acoustic_014-025-075.png\n",
      "wrote file organ_electronic_001-060-075.png\n",
      "wrote file organ_electronic_001-067-050.png\n",
      "wrote file bass_synthetic_033-100-100.png\n",
      "wrote file bass_synthetic_034-023-075.png\n",
      "wrote file keyboard_electronic_098-081-100.png\n",
      "wrote file brass_acoustic_006-056-127.png\n",
      "wrote file brass_acoustic_006-065-127.png\n",
      "wrote file bass_synthetic_034-065-025.png\n",
      "wrote file bass_synthetic_034-087-127.png\n",
      "wrote file guitar_electronic_028-058-025.png\n",
      "wrote file bass_synthetic_068-048-100.png\n",
      "wrote file bass_synthetic_068-055-050.png\n",
      "wrote file bass_synthetic_068-062-100.png\n",
      "wrote file vocal_synthetic_003-057-075.png\n",
      "wrote file vocal_synthetic_003-065-100.png\n",
      "wrote file keyboard_electronic_003-088-075.png\n",
      "wrote file keyboard_acoustic_004-057-075.png\n",
      "wrote file keyboard_acoustic_004-064-050.png\n",
      "wrote file mallet_acoustic_062-025-025.png\n",
      "wrote file mallet_acoustic_062-035-025.png\n",
      "wrote file organ_electronic_104-059-050.png\n",
      "wrote file organ_electronic_104-067-100.png\n",
      "wrote file brass_acoustic_015-045-075.png\n",
      "wrote file brass_acoustic_015-051-100.png\n",
      "wrote file bass_synthetic_134-095-075.png\n",
      "wrote file bass_synthetic_134-104-075.png\n",
      "wrote file mallet_acoustic_062-054-100.png\n",
      "wrote file mallet_acoustic_062-065-100.png\n",
      "wrote file bass_synthetic_135-091-025.png\n",
      "wrote file bass_synthetic_135-098-100.png\n",
      "wrote file guitar_acoustic_010-022-075.png\n",
      "wrote file guitar_acoustic_010-027-127.png\n",
      "wrote file string_acoustic_056-051-025.png\n",
      "wrote file string_acoustic_056-058-025.png\n",
      "wrote file reed_acoustic_037-037-050.png\n",
      "wrote file reed_acoustic_037-044-100.png\n",
      "wrote file flute_acoustic_002-098-127.png\n",
      "wrote file flute_acoustic_002-103-075.png\n",
      "wrote file string_acoustic_071-038-075.png\n",
      "wrote file string_acoustic_071-044-075.png\n"
     ]
    },
    {
     "name": "stderr",
     "output_type": "stream",
     "text": [
      "/home/jamie/anaconda3/lib/python3.7/site-packages/skimage/io/_io.py:141: UserWarning: /media/jamie/My Passport/Data/NSYNTH/nsynth-test.jsonwav/nsynth-test/graphs/keyboard_synthetic_000-086-075.png is a low contrast image\n",
      "  warn('%s is a low contrast image' % fname)\n",
      "/home/jamie/anaconda3/lib/python3.7/site-packages/skimage/io/_io.py:141: UserWarning: /media/jamie/My Passport/Data/NSYNTH/nsynth-test.jsonwav/nsynth-test/graphs/keyboard_synthetic_000-087-075.png is a low contrast image\n",
      "  warn('%s is a low contrast image' % fname)\n",
      "/home/jamie/anaconda3/lib/python3.7/site-packages/skimage/io/_io.py:141: UserWarning: /media/jamie/My Passport/Data/NSYNTH/nsynth-test.jsonwav/nsynth-test/graphs/keyboard_synthetic_000-088-050.png is a low contrast image\n",
      "  warn('%s is a low contrast image' % fname)\n",
      "/home/jamie/anaconda3/lib/python3.7/site-packages/skimage/io/_io.py:141: UserWarning: /media/jamie/My Passport/Data/NSYNTH/nsynth-test.jsonwav/nsynth-test/graphs/keyboard_synthetic_000-089-075.png is a low contrast image\n",
      "  warn('%s is a low contrast image' % fname)\n",
      "/home/jamie/anaconda3/lib/python3.7/site-packages/skimage/io/_io.py:141: UserWarning: /media/jamie/My Passport/Data/NSYNTH/nsynth-test.jsonwav/nsynth-test/graphs/keyboard_synthetic_000-091-025.png is a low contrast image\n",
      "  warn('%s is a low contrast image' % fname)\n",
      "/home/jamie/anaconda3/lib/python3.7/site-packages/skimage/io/_io.py:141: UserWarning: /media/jamie/My Passport/Data/NSYNTH/nsynth-test.jsonwav/nsynth-test/graphs/keyboard_synthetic_000-091-050.png is a low contrast image\n",
      "  warn('%s is a low contrast image' % fname)\n",
      "/home/jamie/anaconda3/lib/python3.7/site-packages/skimage/io/_io.py:141: UserWarning: /media/jamie/My Passport/Data/NSYNTH/nsynth-test.jsonwav/nsynth-test/graphs/keyboard_synthetic_000-091-100.png is a low contrast image\n",
      "  warn('%s is a low contrast image' % fname)\n",
      "/home/jamie/anaconda3/lib/python3.7/site-packages/skimage/io/_io.py:141: UserWarning: /media/jamie/My Passport/Data/NSYNTH/nsynth-test.jsonwav/nsynth-test/graphs/keyboard_synthetic_000-092-050.png is a low contrast image\n",
      "  warn('%s is a low contrast image' % fname)\n"
     ]
    },
    {
     "name": "stdout",
     "output_type": "stream",
     "text": [
      "wrote file keyboard_synthetic_000-091-050.png\n"
     ]
    },
    {
     "name": "stderr",
     "output_type": "stream",
     "text": [
      "/home/jamie/anaconda3/lib/python3.7/site-packages/skimage/io/_io.py:141: UserWarning: /media/jamie/My Passport/Data/NSYNTH/nsynth-test.jsonwav/nsynth-test/graphs/keyboard_synthetic_000-093-075.png is a low contrast image\n",
      "  warn('%s is a low contrast image' % fname)\n",
      "/home/jamie/anaconda3/lib/python3.7/site-packages/skimage/io/_io.py:141: UserWarning: /media/jamie/My Passport/Data/NSYNTH/nsynth-test.jsonwav/nsynth-test/graphs/keyboard_synthetic_000-093-127.png is a low contrast image\n",
      "  warn('%s is a low contrast image' % fname)\n",
      "/home/jamie/anaconda3/lib/python3.7/site-packages/skimage/io/_io.py:141: UserWarning: /media/jamie/My Passport/Data/NSYNTH/nsynth-test.jsonwav/nsynth-test/graphs/keyboard_synthetic_000-094-025.png is a low contrast image\n",
      "  warn('%s is a low contrast image' % fname)\n",
      "/home/jamie/anaconda3/lib/python3.7/site-packages/skimage/io/_io.py:141: UserWarning: /media/jamie/My Passport/Data/NSYNTH/nsynth-test.jsonwav/nsynth-test/graphs/keyboard_synthetic_000-094-100.png is a low contrast image\n",
      "  warn('%s is a low contrast image' % fname)\n",
      "/home/jamie/anaconda3/lib/python3.7/site-packages/skimage/io/_io.py:141: UserWarning: /media/jamie/My Passport/Data/NSYNTH/nsynth-test.jsonwav/nsynth-test/graphs/keyboard_synthetic_000-095-127.png is a low contrast image\n",
      "  warn('%s is a low contrast image' % fname)\n",
      "/home/jamie/anaconda3/lib/python3.7/site-packages/skimage/io/_io.py:141: UserWarning: /media/jamie/My Passport/Data/NSYNTH/nsynth-test.jsonwav/nsynth-test/graphs/keyboard_synthetic_000-098-075.png is a low contrast image\n",
      "  warn('%s is a low contrast image' % fname)\n"
     ]
    },
    {
     "name": "stdout",
     "output_type": "stream",
     "text": [
      "wrote file organ_electronic_028-041-127.png\n",
      "wrote file organ_electronic_028-051-025.png\n",
      "wrote file bass_synthetic_098-091-127.png\n",
      "wrote file bass_synthetic_098-105-050.png\n",
      "wrote file reed_acoustic_023-069-075.png\n",
      "wrote file reed_acoustic_023-075-025.png\n",
      "wrote file reed_acoustic_018-066-100.png\n",
      "wrote file reed_acoustic_018-073-100.png\n",
      "wrote file bass_synthetic_009-054-075.png\n",
      "wrote file bass_synthetic_009-061-127.png\n"
     ]
    },
    {
     "name": "stderr",
     "output_type": "stream",
     "text": [
      "/home/jamie/anaconda3/lib/python3.7/site-packages/skimage/io/_io.py:141: UserWarning: /media/jamie/My Passport/Data/NSYNTH/nsynth-test.jsonwav/nsynth-test/graphs/mallet_acoustic_056-033-100.png is a low contrast image\n",
      "  warn('%s is a low contrast image' % fname)\n",
      "/home/jamie/anaconda3/lib/python3.7/site-packages/skimage/io/_io.py:141: UserWarning: /media/jamie/My Passport/Data/NSYNTH/nsynth-test.jsonwav/nsynth-test/graphs/mallet_acoustic_056-035-025.png is a low contrast image\n",
      "  warn('%s is a low contrast image' % fname)\n",
      "/home/jamie/anaconda3/lib/python3.7/site-packages/skimage/io/_io.py:141: UserWarning: /media/jamie/My Passport/Data/NSYNTH/nsynth-test.jsonwav/nsynth-test/graphs/mallet_acoustic_056-036-025.png is a low contrast image\n",
      "  warn('%s is a low contrast image' % fname)\n",
      "/home/jamie/anaconda3/lib/python3.7/site-packages/skimage/io/_io.py:141: UserWarning: /media/jamie/My Passport/Data/NSYNTH/nsynth-test.jsonwav/nsynth-test/graphs/mallet_acoustic_056-037-050.png is a low contrast image\n",
      "  warn('%s is a low contrast image' % fname)\n",
      "/home/jamie/anaconda3/lib/python3.7/site-packages/skimage/io/_io.py:141: UserWarning: /media/jamie/My Passport/Data/NSYNTH/nsynth-test.jsonwav/nsynth-test/graphs/mallet_acoustic_056-044-025.png is a low contrast image\n",
      "  warn('%s is a low contrast image' % fname)\n"
     ]
    },
    {
     "name": "stdout",
     "output_type": "stream",
     "text": [
      "wrote file mallet_acoustic_056-044-025.png\n"
     ]
    },
    {
     "name": "stderr",
     "output_type": "stream",
     "text": [
      "/home/jamie/anaconda3/lib/python3.7/site-packages/skimage/io/_io.py:141: UserWarning: /media/jamie/My Passport/Data/NSYNTH/nsynth-test.jsonwav/nsynth-test/graphs/mallet_acoustic_056-045-100.png is a low contrast image\n",
      "  warn('%s is a low contrast image' % fname)\n",
      "/home/jamie/anaconda3/lib/python3.7/site-packages/skimage/io/_io.py:141: UserWarning: /media/jamie/My Passport/Data/NSYNTH/nsynth-test.jsonwav/nsynth-test/graphs/mallet_acoustic_056-045-127.png is a low contrast image\n",
      "  warn('%s is a low contrast image' % fname)\n",
      "/home/jamie/anaconda3/lib/python3.7/site-packages/skimage/io/_io.py:141: UserWarning: /media/jamie/My Passport/Data/NSYNTH/nsynth-test.jsonwav/nsynth-test/graphs/mallet_acoustic_056-046-025.png is a low contrast image\n",
      "  warn('%s is a low contrast image' % fname)\n",
      "/home/jamie/anaconda3/lib/python3.7/site-packages/skimage/io/_io.py:141: UserWarning: /media/jamie/My Passport/Data/NSYNTH/nsynth-test.jsonwav/nsynth-test/graphs/mallet_acoustic_056-047-100.png is a low contrast image\n",
      "  warn('%s is a low contrast image' % fname)\n",
      "/home/jamie/anaconda3/lib/python3.7/site-packages/skimage/io/_io.py:141: UserWarning: /media/jamie/My Passport/Data/NSYNTH/nsynth-test.jsonwav/nsynth-test/graphs/mallet_acoustic_056-048-127.png is a low contrast image\n",
      "  warn('%s is a low contrast image' % fname)\n",
      "/home/jamie/anaconda3/lib/python3.7/site-packages/skimage/io/_io.py:141: UserWarning: /media/jamie/My Passport/Data/NSYNTH/nsynth-test.jsonwav/nsynth-test/graphs/mallet_acoustic_056-049-127.png is a low contrast image\n",
      "  warn('%s is a low contrast image' % fname)\n"
     ]
    },
    {
     "name": "stdout",
     "output_type": "stream",
     "text": [
      "wrote file mallet_acoustic_056-050-100.png\n",
      "wrote file reed_acoustic_011-039-100.png\n"
     ]
    },
    {
     "name": "stderr",
     "output_type": "stream",
     "text": [
      "/home/jamie/anaconda3/lib/python3.7/site-packages/skimage/io/_io.py:141: UserWarning: /media/jamie/My Passport/Data/NSYNTH/nsynth-test.jsonwav/nsynth-test/graphs/keyboard_electronic_002-108-050.png is a low contrast image\n",
      "  warn('%s is a low contrast image' % fname)\n"
     ]
    },
    {
     "name": "stdout",
     "output_type": "stream",
     "text": [
      "wrote file keyboard_electronic_003-026-025.png\n",
      "wrote file keyboard_electronic_003-031-075.png\n",
      "wrote file keyboard_electronic_003-039-025.png\n"
     ]
    },
    {
     "name": "stderr",
     "output_type": "stream",
     "text": [
      "/home/jamie/anaconda3/lib/python3.7/site-packages/skimage/io/_io.py:141: UserWarning: /media/jamie/My Passport/Data/NSYNTH/nsynth-test.jsonwav/nsynth-test/graphs/guitar_acoustic_014-101-075.png is a low contrast image\n",
      "  warn('%s is a low contrast image' % fname)\n",
      "/home/jamie/anaconda3/lib/python3.7/site-packages/skimage/io/_io.py:141: UserWarning: /media/jamie/My Passport/Data/NSYNTH/nsynth-test.jsonwav/nsynth-test/graphs/guitar_acoustic_014-102-025.png is a low contrast image\n",
      "  warn('%s is a low contrast image' % fname)\n",
      "/home/jamie/anaconda3/lib/python3.7/site-packages/skimage/io/_io.py:141: UserWarning: /media/jamie/My Passport/Data/NSYNTH/nsynth-test.jsonwav/nsynth-test/graphs/guitar_acoustic_014-102-100.png is a low contrast image\n",
      "  warn('%s is a low contrast image' % fname)\n",
      "/home/jamie/anaconda3/lib/python3.7/site-packages/skimage/io/_io.py:141: UserWarning: /media/jamie/My Passport/Data/NSYNTH/nsynth-test.jsonwav/nsynth-test/graphs/guitar_acoustic_014-102-127.png is a low contrast image\n",
      "  warn('%s is a low contrast image' % fname)\n",
      "/home/jamie/anaconda3/lib/python3.7/site-packages/skimage/io/_io.py:141: UserWarning: /media/jamie/My Passport/Data/NSYNTH/nsynth-test.jsonwav/nsynth-test/graphs/guitar_acoustic_014-103-075.png is a low contrast image\n",
      "  warn('%s is a low contrast image' % fname)\n",
      "/home/jamie/anaconda3/lib/python3.7/site-packages/skimage/io/_io.py:141: UserWarning: /media/jamie/My Passport/Data/NSYNTH/nsynth-test.jsonwav/nsynth-test/graphs/guitar_acoustic_014-104-100.png is a low contrast image\n",
      "  warn('%s is a low contrast image' % fname)\n",
      "/home/jamie/anaconda3/lib/python3.7/site-packages/skimage/io/_io.py:141: UserWarning: /media/jamie/My Passport/Data/NSYNTH/nsynth-test.jsonwav/nsynth-test/graphs/guitar_acoustic_014-105-100.png is a low contrast image\n",
      "  warn('%s is a low contrast image' % fname)\n"
     ]
    },
    {
     "name": "stdout",
     "output_type": "stream",
     "text": [
      "wrote file guitar_acoustic_014-104-100.png\n",
      "wrote file guitar_acoustic_014-048-100.png\n",
      "wrote file guitar_acoustic_014-057-075.png\n"
     ]
    },
    {
     "name": "stderr",
     "output_type": "stream",
     "text": [
      "/home/jamie/anaconda3/lib/python3.7/site-packages/skimage/io/_io.py:141: UserWarning: /media/jamie/My Passport/Data/NSYNTH/nsynth-test.jsonwav/nsynth-test/graphs/keyboard_synthetic_000-053-050.png is a low contrast image\n",
      "  warn('%s is a low contrast image' % fname)\n",
      "/home/jamie/anaconda3/lib/python3.7/site-packages/skimage/io/_io.py:141: UserWarning: /media/jamie/My Passport/Data/NSYNTH/nsynth-test.jsonwav/nsynth-test/graphs/keyboard_synthetic_000-056-075.png is a low contrast image\n",
      "  warn('%s is a low contrast image' % fname)\n",
      "/home/jamie/anaconda3/lib/python3.7/site-packages/skimage/io/_io.py:141: UserWarning: /media/jamie/My Passport/Data/NSYNTH/nsynth-test.jsonwav/nsynth-test/graphs/keyboard_synthetic_000-056-100.png is a low contrast image\n",
      "  warn('%s is a low contrast image' % fname)\n",
      "/home/jamie/anaconda3/lib/python3.7/site-packages/skimage/io/_io.py:141: UserWarning: /media/jamie/My Passport/Data/NSYNTH/nsynth-test.jsonwav/nsynth-test/graphs/keyboard_synthetic_000-058-050.png is a low contrast image\n",
      "  warn('%s is a low contrast image' % fname)\n",
      "/home/jamie/anaconda3/lib/python3.7/site-packages/skimage/io/_io.py:141: UserWarning: /media/jamie/My Passport/Data/NSYNTH/nsynth-test.jsonwav/nsynth-test/graphs/keyboard_synthetic_000-058-100.png is a low contrast image\n",
      "  warn('%s is a low contrast image' % fname)\n"
     ]
    },
    {
     "name": "stdout",
     "output_type": "stream",
     "text": [
      "wrote file keyboard_synthetic_000-058-100.png\n"
     ]
    },
    {
     "name": "stderr",
     "output_type": "stream",
     "text": [
      "/home/jamie/anaconda3/lib/python3.7/site-packages/skimage/io/_io.py:141: UserWarning: /media/jamie/My Passport/Data/NSYNTH/nsynth-test.jsonwav/nsynth-test/graphs/keyboard_synthetic_000-062-050.png is a low contrast image\n",
      "  warn('%s is a low contrast image' % fname)\n",
      "/home/jamie/anaconda3/lib/python3.7/site-packages/skimage/io/_io.py:141: UserWarning: /media/jamie/My Passport/Data/NSYNTH/nsynth-test.jsonwav/nsynth-test/graphs/keyboard_synthetic_000-062-075.png is a low contrast image\n",
      "  warn('%s is a low contrast image' % fname)\n",
      "/home/jamie/anaconda3/lib/python3.7/site-packages/skimage/io/_io.py:141: UserWarning: /media/jamie/My Passport/Data/NSYNTH/nsynth-test.jsonwav/nsynth-test/graphs/keyboard_synthetic_000-063-050.png is a low contrast image\n",
      "  warn('%s is a low contrast image' % fname)\n",
      "/home/jamie/anaconda3/lib/python3.7/site-packages/skimage/io/_io.py:141: UserWarning: /media/jamie/My Passport/Data/NSYNTH/nsynth-test.jsonwav/nsynth-test/graphs/keyboard_synthetic_000-063-075.png is a low contrast image\n",
      "  warn('%s is a low contrast image' % fname)\n",
      "/home/jamie/anaconda3/lib/python3.7/site-packages/skimage/io/_io.py:141: UserWarning: /media/jamie/My Passport/Data/NSYNTH/nsynth-test.jsonwav/nsynth-test/graphs/keyboard_synthetic_000-064-025.png is a low contrast image\n",
      "  warn('%s is a low contrast image' % fname)\n",
      "/home/jamie/anaconda3/lib/python3.7/site-packages/skimage/io/_io.py:141: UserWarning: /media/jamie/My Passport/Data/NSYNTH/nsynth-test.jsonwav/nsynth-test/graphs/keyboard_synthetic_000-065-050.png is a low contrast image\n",
      "  warn('%s is a low contrast image' % fname)\n"
     ]
    },
    {
     "name": "stdout",
     "output_type": "stream",
     "text": [
      "wrote file keyboard_synthetic_000-067-050.png\n",
      "wrote file guitar_acoustic_014-078-050.png\n",
      "wrote file keyboard_acoustic_004-026-050.png\n",
      "wrote file keyboard_acoustic_004-031-025.png\n",
      "wrote file organ_electronic_113-065-100.png\n",
      "wrote file reed_acoustic_011-060-075.png\n",
      "wrote file reed_acoustic_011-065-075.png\n",
      "wrote file vocal_acoustic_000-065-100.png\n",
      "wrote file vocal_synthetic_003-027-075.png\n",
      "wrote file keyboard_electronic_078-053-050.png\n",
      "wrote file keyboard_electronic_078-061-127.png\n",
      "wrote file string_acoustic_057-073-025.png\n",
      "wrote file bass_synthetic_033-050-075.png\n",
      "wrote file guitar_acoustic_015-040-127.png\n",
      "wrote file guitar_acoustic_015-048-127.png\n",
      "wrote file brass_acoustic_006-030-127.png\n",
      "wrote file brass_acoustic_006-037-127.png\n",
      "wrote file guitar_electronic_028-092-025.png\n",
      "wrote file guitar_electronic_022-089-100.png\n",
      "wrote file organ_electronic_057-057-127.png\n",
      "wrote file organ_electronic_057-064-075.png\n",
      "wrote file guitar_electronic_022-057-025.png\n",
      "wrote file guitar_electronic_022-067-025.png\n"
     ]
    },
    {
     "name": "stderr",
     "output_type": "stream",
     "text": [
      "/home/jamie/anaconda3/lib/python3.7/site-packages/skimage/io/_io.py:141: UserWarning: /media/jamie/My Passport/Data/NSYNTH/nsynth-test.jsonwav/nsynth-test/graphs/mallet_acoustic_062-093-050.png is a low contrast image\n",
      "  warn('%s is a low contrast image' % fname)\n",
      "/home/jamie/anaconda3/lib/python3.7/site-packages/skimage/io/_io.py:141: UserWarning: /media/jamie/My Passport/Data/NSYNTH/nsynth-test.jsonwav/nsynth-test/graphs/mallet_acoustic_062-095-050.png is a low contrast image\n",
      "  warn('%s is a low contrast image' % fname)\n",
      "/home/jamie/anaconda3/lib/python3.7/site-packages/skimage/io/_io.py:141: UserWarning: /media/jamie/My Passport/Data/NSYNTH/nsynth-test.jsonwav/nsynth-test/graphs/mallet_acoustic_062-096-025.png is a low contrast image\n",
      "  warn('%s is a low contrast image' % fname)\n",
      "/home/jamie/anaconda3/lib/python3.7/site-packages/skimage/io/_io.py:141: UserWarning: /media/jamie/My Passport/Data/NSYNTH/nsynth-test.jsonwav/nsynth-test/graphs/mallet_acoustic_062-096-050.png is a low contrast image\n",
      "  warn('%s is a low contrast image' % fname)\n"
     ]
    },
    {
     "name": "stdout",
     "output_type": "stream",
     "text": [
      "wrote file mallet_acoustic_062-096-050.png\n"
     ]
    },
    {
     "name": "stderr",
     "output_type": "stream",
     "text": [
      "/home/jamie/anaconda3/lib/python3.7/site-packages/skimage/io/_io.py:141: UserWarning: /media/jamie/My Passport/Data/NSYNTH/nsynth-test.jsonwav/nsynth-test/graphs/mallet_acoustic_062-101-025.png is a low contrast image\n",
      "  warn('%s is a low contrast image' % fname)\n",
      "/home/jamie/anaconda3/lib/python3.7/site-packages/skimage/io/_io.py:141: UserWarning: /media/jamie/My Passport/Data/NSYNTH/nsynth-test.jsonwav/nsynth-test/graphs/mallet_acoustic_062-105-075.png is a low contrast image\n",
      "  warn('%s is a low contrast image' % fname)\n"
     ]
    },
    {
     "name": "stdout",
     "output_type": "stream",
     "text": [
      "wrote file keyboard_electronic_002-076-100.png\n",
      "wrote file keyboard_electronic_002-085-075.png\n",
      "wrote file bass_synthetic_135-051-050.png\n",
      "wrote file guitar_acoustic_021-083-075.png\n"
     ]
    },
    {
     "name": "stderr",
     "output_type": "stream",
     "text": [
      "/home/jamie/anaconda3/lib/python3.7/site-packages/skimage/io/_io.py:141: UserWarning: /media/jamie/My Passport/Data/NSYNTH/nsynth-test.jsonwav/nsynth-test/graphs/guitar_acoustic_021-087-050.png is a low contrast image\n",
      "  warn('%s is a low contrast image' % fname)\n",
      "/home/jamie/anaconda3/lib/python3.7/site-packages/skimage/io/_io.py:141: UserWarning: /media/jamie/My Passport/Data/NSYNTH/nsynth-test.jsonwav/nsynth-test/graphs/guitar_acoustic_021-087-100.png is a low contrast image\n",
      "  warn('%s is a low contrast image' % fname)\n",
      "/home/jamie/anaconda3/lib/python3.7/site-packages/skimage/io/_io.py:141: UserWarning: /media/jamie/My Passport/Data/NSYNTH/nsynth-test.jsonwav/nsynth-test/graphs/guitar_acoustic_021-088-127.png is a low contrast image\n",
      "  warn('%s is a low contrast image' % fname)\n",
      "/home/jamie/anaconda3/lib/python3.7/site-packages/skimage/io/_io.py:141: UserWarning: /media/jamie/My Passport/Data/NSYNTH/nsynth-test.jsonwav/nsynth-test/graphs/guitar_acoustic_021-089-100.png is a low contrast image\n",
      "  warn('%s is a low contrast image' % fname)\n",
      "/home/jamie/anaconda3/lib/python3.7/site-packages/skimage/io/_io.py:141: UserWarning: /media/jamie/My Passport/Data/NSYNTH/nsynth-test.jsonwav/nsynth-test/graphs/guitar_acoustic_021-090-025.png is a low contrast image\n",
      "  warn('%s is a low contrast image' % fname)\n",
      "/home/jamie/anaconda3/lib/python3.7/site-packages/skimage/io/_io.py:141: UserWarning: /media/jamie/My Passport/Data/NSYNTH/nsynth-test.jsonwav/nsynth-test/graphs/guitar_acoustic_021-092-127.png is a low contrast image\n",
      "  warn('%s is a low contrast image' % fname)\n",
      "/home/jamie/anaconda3/lib/python3.7/site-packages/skimage/io/_io.py:141: UserWarning: /media/jamie/My Passport/Data/NSYNTH/nsynth-test.jsonwav/nsynth-test/graphs/guitar_acoustic_021-093-025.png is a low contrast image\n",
      "  warn('%s is a low contrast image' % fname)\n"
     ]
    },
    {
     "name": "stdout",
     "output_type": "stream",
     "text": [
      "wrote file guitar_acoustic_021-092-127.png\n"
     ]
    },
    {
     "name": "stderr",
     "output_type": "stream",
     "text": [
      "/home/jamie/anaconda3/lib/python3.7/site-packages/skimage/io/_io.py:141: UserWarning: /media/jamie/My Passport/Data/NSYNTH/nsynth-test.jsonwav/nsynth-test/graphs/guitar_acoustic_021-093-050.png is a low contrast image\n",
      "  warn('%s is a low contrast image' % fname)\n",
      "/home/jamie/anaconda3/lib/python3.7/site-packages/skimage/io/_io.py:141: UserWarning: /media/jamie/My Passport/Data/NSYNTH/nsynth-test.jsonwav/nsynth-test/graphs/guitar_acoustic_021-093-127.png is a low contrast image\n",
      "  warn('%s is a low contrast image' % fname)\n",
      "/home/jamie/anaconda3/lib/python3.7/site-packages/skimage/io/_io.py:141: UserWarning: /media/jamie/My Passport/Data/NSYNTH/nsynth-test.jsonwav/nsynth-test/graphs/guitar_acoustic_021-094-050.png is a low contrast image\n",
      "  warn('%s is a low contrast image' % fname)\n",
      "/home/jamie/anaconda3/lib/python3.7/site-packages/skimage/io/_io.py:141: UserWarning: /media/jamie/My Passport/Data/NSYNTH/nsynth-test.jsonwav/nsynth-test/graphs/guitar_acoustic_021-094-100.png is a low contrast image\n",
      "  warn('%s is a low contrast image' % fname)\n"
     ]
    },
    {
     "name": "stdout",
     "output_type": "stream",
     "text": [
      "wrote file vocal_synthetic_003-104-050.png\n",
      "wrote file guitar_acoustic_010-087-127.png\n",
      "wrote file guitar_acoustic_010-095-075.png\n",
      "wrote file bass_synthetic_009-035-025.png\n",
      "wrote file brass_acoustic_059-064-100.png\n",
      "wrote file flute_acoustic_002-077-025.png\n",
      "wrote file bass_synthetic_134-041-050.png\n",
      "wrote file brass_acoustic_015-072-050.png\n",
      "wrote file flute_synthetic_000-021-127.png\n",
      "wrote file keyboard_electronic_078-030-050.png\n",
      "wrote file bass_electronic_027-026-025.png\n",
      "wrote file bass_electronic_027-032-075.png\n",
      "wrote file bass_synthetic_068-084-050.png\n"
     ]
    },
    {
     "name": "stderr",
     "output_type": "stream",
     "text": [
      "/home/jamie/anaconda3/lib/python3.7/site-packages/skimage/io/_io.py:141: UserWarning: /media/jamie/My Passport/Data/NSYNTH/nsynth-test.jsonwav/nsynth-test/graphs/bass_synthetic_068-105-127.png is a low contrast image\n",
      "  warn('%s is a low contrast image' % fname)\n"
     ]
    },
    {
     "name": "stdout",
     "output_type": "stream",
     "text": [
      "wrote file organ_electronic_104-024-025.png\n",
      "wrote file vocal_synthetic_003-079-075.png\n",
      "wrote file vocal_synthetic_003-085-127.png\n",
      "wrote file organ_electronic_028-070-127.png\n",
      "wrote file keyboard_electronic_002-052-050.png\n",
      "wrote file keyboard_electronic_002-062-050.png\n",
      "wrote file keyboard_acoustic_004-079-127.png\n",
      "wrote file bass_synthetic_034-095-127.png\n",
      "wrote file bass_synthetic_068-021-127.png\n",
      "wrote file organ_electronic_113-034-127.png\n",
      "wrote file keyboard_acoustic_004-047-127.png\n"
     ]
    },
    {
     "name": "stderr",
     "output_type": "stream",
     "text": [
      "/home/jamie/anaconda3/lib/python3.7/site-packages/skimage/io/_io.py:141: UserWarning: /media/jamie/My Passport/Data/NSYNTH/nsynth-test.jsonwav/nsynth-test/graphs/string_acoustic_056-071-100.png is a low contrast image\n",
      "  warn('%s is a low contrast image' % fname)\n"
     ]
    },
    {
     "name": "stdout",
     "output_type": "stream",
     "text": [
      "wrote file string_acoustic_056-071-100.png\n"
     ]
    },
    {
     "name": "stderr",
     "output_type": "stream",
     "text": [
      "/home/jamie/anaconda3/lib/python3.7/site-packages/skimage/io/_io.py:141: UserWarning: /media/jamie/My Passport/Data/NSYNTH/nsynth-test.jsonwav/nsynth-test/graphs/string_acoustic_056-074-100.png is a low contrast image\n",
      "  warn('%s is a low contrast image' % fname)\n",
      "/home/jamie/anaconda3/lib/python3.7/site-packages/skimage/io/_io.py:141: UserWarning: /media/jamie/My Passport/Data/NSYNTH/nsynth-test.jsonwav/nsynth-test/graphs/string_acoustic_056-078-127.png is a low contrast image\n",
      "  warn('%s is a low contrast image' % fname)\n"
     ]
    },
    {
     "name": "stdout",
     "output_type": "stream",
     "text": [
      "wrote file string_acoustic_056-079-050.png\n",
      "wrote file bass_synthetic_098-038-075.png\n",
      "wrote file guitar_acoustic_015-096-127.png\n"
     ]
    },
    {
     "name": "stderr",
     "output_type": "stream",
     "text": [
      "/home/jamie/anaconda3/lib/python3.7/site-packages/skimage/io/_io.py:141: UserWarning: /media/jamie/My Passport/Data/NSYNTH/nsynth-test.jsonwav/nsynth-test/graphs/guitar_acoustic_015-098-127.png is a low contrast image\n",
      "  warn('%s is a low contrast image' % fname)\n"
     ]
    },
    {
     "name": "stdout",
     "output_type": "stream",
     "text": [
      "wrote file flute_synthetic_000-049-050.png\n",
      "wrote file flute_synthetic_000-054-025.png\n",
      "wrote file bass_electronic_025-023-100.png\n",
      "wrote file organ_electronic_028-092-025.png\n",
      "wrote file bass_electronic_025-044-127.png\n",
      "wrote file bass_electronic_025-052-100.png\n",
      "wrote file brass_acoustic_016-067-100.png\n"
     ]
    }
   ],
   "source": [
    "generate_images()"
   ]
  },
  {
   "cell_type": "code",
   "execution_count": 49,
   "metadata": {},
   "outputs": [
    {
     "data": {
      "text/plain": [
       "'bass_electronic_018-022-100.wav'"
      ]
     },
     "execution_count": 49,
     "metadata": {},
     "output_type": "execute_result"
    }
   ],
   "source": [
    "filename= os.listdir(path)[0]; filename"
   ]
  },
  {
   "cell_type": "code",
   "execution_count": 47,
   "metadata": {},
   "outputs": [
    {
     "data": {
      "text/plain": [
       "'bass_electronic_018-022-100.png'"
      ]
     },
     "execution_count": 47,
     "metadata": {},
     "output_type": "execute_result"
    }
   ],
   "source": [
    "out = os.listdir(path)[0].replace('.wav','.png'); out\n"
   ]
  },
  {
   "cell_type": "code",
   "execution_count": 50,
   "metadata": {},
   "outputs": [
    {
     "data": {
      "text/plain": [
       "'/media/jamie/My Passport/Data/NSYNTH/nsynth-test.jsonwav/nsynth-test/audio/bass_electronic_018-022-100.wav'"
      ]
     },
     "execution_count": 50,
     "metadata": {},
     "output_type": "execute_result"
    }
   ],
   "source": [
    "path+filename"
   ]
  },
  {
   "cell_type": "code",
   "execution_count": null,
   "metadata": {},
   "outputs": [],
   "source": []
  }
 ],
 "metadata": {
  "kernelspec": {
   "display_name": "Python 3",
   "language": "python",
   "name": "python3"
  },
  "language_info": {
   "codemirror_mode": {
    "name": "ipython",
    "version": 3
   },
   "file_extension": ".py",
   "mimetype": "text/x-python",
   "name": "python",
   "nbconvert_exporter": "python",
   "pygments_lexer": "ipython3",
   "version": "3.7.3"
  }
 },
 "nbformat": 4,
 "nbformat_minor": 2
}
