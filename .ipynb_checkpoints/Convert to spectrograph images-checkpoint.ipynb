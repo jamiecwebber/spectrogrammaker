{
 "cells": [
  {
   "cell_type": "code",
   "execution_count": 9,
   "metadata": {},
   "outputs": [],
   "source": [
    "import librosa\n",
    "import soundfile\n",
    "import numpy\n",
    "import skimage\n"
   ]
  },
  {
   "cell_type": "code",
   "execution_count": 3,
   "metadata": {
    "scrolled": true
   },
   "outputs": [
    {
     "data": {
      "text/plain": [
       "(array([ 1.5801792e-05,  4.6860278e-05,  4.2453634e-05, ...,\n",
       "        -2.4861984e-05,  3.0201786e-06,  6.3318989e-06], dtype=float32), 22050)"
      ]
     },
     "execution_count": 3,
     "metadata": {},
     "output_type": "execute_result"
    }
   ],
   "source": [
    "librosa.load(r'/media/jamie/My Passport/Data/Yanni/Yanni Discography (1984-2012) [FLAC][WwW.LoKoTorrents]/Yanni Discography (1984-2012) [FLAC][WwW.LoKoTorrents.CoM]/1988 - Chameleon Days/04 - The Rain Must Fall.flac')"
   ]
  },
  {
   "cell_type": "code",
   "execution_count": 33,
   "metadata": {},
   "outputs": [
    {
     "name": "stdout",
     "output_type": "stream",
     "text": [
      "Collecting fastai\n",
      "\u001b[?25l  Downloading https://files.pythonhosted.org/packages/c1/e2/42342ded0385d694e3250e74f43f0dc9a3ff3d5c2241a2ddd98236b5f9de/fastai-1.0.57-py3-none-any.whl (233kB)\n",
      "\u001b[K     |████████████████████████████████| 235kB 40kB/s eta 0:00:01\n",
      "\u001b[?25hRequirement already satisfied: beautifulsoup4 in /home/jamie/anaconda3/lib/python3.7/site-packages (from fastai) (4.7.1)\n",
      "Collecting nvidia-ml-py3 (from fastai)\n",
      "  Downloading https://files.pythonhosted.org/packages/6d/64/cce82bddb80c0b0f5c703bbdafa94bfb69a1c5ad7a79cff00b482468f0d3/nvidia-ml-py3-7.352.0.tar.gz\n",
      "Requirement already satisfied: pandas in /home/jamie/anaconda3/lib/python3.7/site-packages (from fastai) (0.25.0)\n",
      "Requirement already satisfied: Pillow in /home/jamie/anaconda3/lib/python3.7/site-packages (from fastai) (6.1.0)\n",
      "Requirement already satisfied: pyyaml in /home/jamie/anaconda3/lib/python3.7/site-packages (from fastai) (5.1.1)\n",
      "Collecting fastprogress>=0.1.19 (from fastai)\n",
      "  Downloading https://files.pythonhosted.org/packages/83/db/794db47024a26c75635c35f0ee5431aa8b528e895ad1ed958041290f83f7/fastprogress-0.1.21-py3-none-any.whl\n",
      "Requirement already satisfied: matplotlib in /home/jamie/anaconda3/lib/python3.7/site-packages (from fastai) (3.1.0)\n",
      "Requirement already satisfied: requests in /home/jamie/anaconda3/lib/python3.7/site-packages (from fastai) (2.22.0)\n",
      "Requirement already satisfied: bottleneck in /home/jamie/anaconda3/lib/python3.7/site-packages (from fastai) (1.2.1)\n",
      "Collecting torch>=1.0.0 (from fastai)\n",
      "\u001b[?25l  Downloading https://files.pythonhosted.org/packages/05/65/5248be50c55ab7429dd5c11f5e2f9f5865606b80e854ca63139ad1a584f2/torch-1.2.0-cp37-cp37m-manylinux1_x86_64.whl (748.9MB)\n",
      "\u001b[K     |████████████████████████████████| 748.9MB 87kB/s  eta 0:00:01     |██▋                             | 61.1MB 61kB/s eta 3:05:24     |████████████████████████████▉   | 674.3MB 1.9MB/s eta 0:00:40\n",
      "\u001b[?25hCollecting spacy>=2.0.18 (from fastai)\n",
      "\u001b[33m  WARNING: Retrying (Retry(total=4, connect=None, read=None, redirect=None, status=None)) after connection broken by 'ReadTimeoutError(\"HTTPSConnectionPool(host='pypi.org', port=443): Read timed out. (read timeout=15)\")': /simple/spacy/\u001b[0m\n",
      "\u001b[?25l  Downloading https://files.pythonhosted.org/packages/e8/75/3c000560b15248530694b4bf6222357549accf24b9ee5b27a3f0acc8323e/spacy-2.1.8-cp37-cp37m-manylinux1_x86_64.whl (30.8MB)\n",
      "\u001b[K     |████████████████████████████████| 30.8MB 2.3MB/s eta 0:00:01\n",
      "\u001b[?25hRequirement already satisfied: numexpr in /home/jamie/anaconda3/lib/python3.7/site-packages (from fastai) (2.6.9)\n",
      "Requirement already satisfied: numpy>=1.15 in /home/jamie/anaconda3/lib/python3.7/site-packages (from fastai) (1.16.4)\n",
      "Collecting torchvision (from fastai)\n",
      "\u001b[?25l  Downloading https://files.pythonhosted.org/packages/51/83/2d77d040e34bd8f70dcb4770f7eb7d0aa71e07738abf6831be863ade00db/torchvision-0.4.0-cp37-cp37m-manylinux1_x86_64.whl (8.8MB)\n",
      "\u001b[K     |████████████████████████████████| 8.8MB 792kB/s eta 0:00:01\n",
      "\u001b[?25hRequirement already satisfied: scipy in /home/jamie/anaconda3/lib/python3.7/site-packages (from fastai) (1.3.0)\n",
      "Requirement already satisfied: packaging in /home/jamie/anaconda3/lib/python3.7/site-packages (from fastai) (19.0)\n",
      "Requirement already satisfied: soupsieve>=1.2 in /home/jamie/anaconda3/lib/python3.7/site-packages (from beautifulsoup4->fastai) (1.9.2)\n",
      "Requirement already satisfied: pytz>=2017.2 in /home/jamie/anaconda3/lib/python3.7/site-packages (from pandas->fastai) (2019.1)\n",
      "Requirement already satisfied: python-dateutil>=2.6.1 in /home/jamie/anaconda3/lib/python3.7/site-packages (from pandas->fastai) (2.8.0)\n",
      "Requirement already satisfied: cycler>=0.10 in /home/jamie/anaconda3/lib/python3.7/site-packages (from matplotlib->fastai) (0.10.0)\n",
      "Requirement already satisfied: kiwisolver>=1.0.1 in /home/jamie/anaconda3/lib/python3.7/site-packages (from matplotlib->fastai) (1.1.0)\n",
      "Requirement already satisfied: pyparsing!=2.0.4,!=2.1.2,!=2.1.6,>=2.0.1 in /home/jamie/anaconda3/lib/python3.7/site-packages (from matplotlib->fastai) (2.4.0)\n",
      "Requirement already satisfied: urllib3!=1.25.0,!=1.25.1,<1.26,>=1.21.1 in /home/jamie/anaconda3/lib/python3.7/site-packages (from requests->fastai) (1.24.2)\n",
      "Requirement already satisfied: chardet<3.1.0,>=3.0.2 in /home/jamie/anaconda3/lib/python3.7/site-packages (from requests->fastai) (3.0.4)\n",
      "Requirement already satisfied: idna<2.9,>=2.5 in /home/jamie/anaconda3/lib/python3.7/site-packages (from requests->fastai) (2.8)\n",
      "Requirement already satisfied: certifi>=2017.4.17 in /home/jamie/anaconda3/lib/python3.7/site-packages (from requests->fastai) (2019.6.16)\n",
      "Collecting srsly<1.1.0,>=0.0.6 (from spacy>=2.0.18->fastai)\n",
      "\u001b[?25l  Downloading https://files.pythonhosted.org/packages/1c/a3/8d84ede325d26075a4e1e2cba01201c6301545bca96dbff60ab9e9d96c3e/srsly-0.1.0-cp37-cp37m-manylinux1_x86_64.whl (181kB)\n",
      "\u001b[K     |████████████████████████████████| 184kB 1.4MB/s eta 0:00:01\n",
      "\u001b[?25hCollecting thinc<7.1.0,>=7.0.8 (from spacy>=2.0.18->fastai)\n",
      "\u001b[?25l  Downloading https://files.pythonhosted.org/packages/36/42/d7ea7539af3852fd8c1f0b3adf4a100fb3d72b40b69cef1a764ff979a743/thinc-7.0.8-cp37-cp37m-manylinux1_x86_64.whl (2.1MB)\n",
      "\u001b[K     |████████████████████████████████| 2.1MB 1.9MB/s eta 0:00:01\n",
      "\u001b[?25hCollecting murmurhash<1.1.0,>=0.28.0 (from spacy>=2.0.18->fastai)\n",
      "  Downloading https://files.pythonhosted.org/packages/73/fc/10eeacb926ec1e88cd62f79d9ac106b0a3e3fe5ff1690422d88c29bd0909/murmurhash-1.0.2-cp37-cp37m-manylinux1_x86_64.whl\n",
      "Collecting blis<0.3.0,>=0.2.2 (from spacy>=2.0.18->fastai)\n",
      "\u001b[?25l  Downloading https://files.pythonhosted.org/packages/fa/5f/47b7b29ad202b2210020e2f33bfb06d1db2abe0e709c2a84736e8a9d1bd5/blis-0.2.4-cp37-cp37m-manylinux1_x86_64.whl (3.2MB)\n",
      "\u001b[K     |████████████████████████████████| 3.2MB 2.1MB/s eta 0:00:01\n",
      "\u001b[?25hCollecting plac<1.0.0,>=0.9.6 (from spacy>=2.0.18->fastai)\n",
      "  Downloading https://files.pythonhosted.org/packages/9e/9b/62c60d2f5bc135d2aa1d8c8a86aaf84edb719a59c7f11a4316259e61a298/plac-0.9.6-py2.py3-none-any.whl\n",
      "Collecting cymem<2.1.0,>=2.0.2 (from spacy>=2.0.18->fastai)\n",
      "  Downloading https://files.pythonhosted.org/packages/65/26/e534148e509cbebbea3ee29f50f59eb206621d12c35e4594507da8dc54cc/cymem-2.0.2-cp37-cp37m-manylinux1_x86_64.whl\n",
      "Collecting wasabi<1.1.0,>=0.2.0 (from spacy>=2.0.18->fastai)\n",
      "  Downloading https://files.pythonhosted.org/packages/f4/c1/d76ccdd12c716be79162d934fe7de4ac8a318b9302864716dde940641a79/wasabi-0.2.2-py3-none-any.whl\n",
      "Collecting preshed<2.1.0,>=2.0.1 (from spacy>=2.0.18->fastai)\n",
      "\u001b[?25l  Downloading https://files.pythonhosted.org/packages/bc/2b/3ecd5d90d2d6fd39fbc520de7d80db5d74defdc2d7c2e15531d9cc3498c7/preshed-2.0.1-cp37-cp37m-manylinux1_x86_64.whl (82kB)\n",
      "\u001b[K     |████████████████████████████████| 92kB 1.7MB/s eta 0:00:01\n",
      "\u001b[?25hRequirement already satisfied: six in /home/jamie/anaconda3/lib/python3.7/site-packages (from torchvision->fastai) (1.12.0)\n",
      "Requirement already satisfied: setuptools in /home/jamie/anaconda3/lib/python3.7/site-packages (from kiwisolver>=1.0.1->matplotlib->fastai) (41.0.1)\n",
      "Requirement already satisfied: tqdm<5.0.0,>=4.10.0 in /home/jamie/anaconda3/lib/python3.7/site-packages (from thinc<7.1.0,>=7.0.8->spacy>=2.0.18->fastai) (4.32.1)\n",
      "Building wheels for collected packages: nvidia-ml-py3\n",
      "  Building wheel for nvidia-ml-py3 (setup.py) ... \u001b[?25ldone\n",
      "\u001b[?25h  Stored in directory: /home/jamie/.cache/pip/wheels/e4/1d/06/640c93f5270d67d0247f30be91f232700d19023f9e66d735c7\n",
      "Successfully built nvidia-ml-py3\n",
      "Installing collected packages: nvidia-ml-py3, fastprogress, torch, srsly, cymem, preshed, murmurhash, wasabi, plac, blis, thinc, spacy, torchvision, fastai\n",
      "Successfully installed blis-0.2.4 cymem-2.0.2 fastai-1.0.57 fastprogress-0.1.21 murmurhash-1.0.2 nvidia-ml-py3-7.352.0 plac-0.9.6 preshed-2.0.1 spacy-2.1.8 srsly-0.1.0 thinc-7.0.8 torch-1.2.0 torchvision-0.4.0 wasabi-0.2.2\n"
     ]
    }
   ],
   "source": [
    "! pip install fastai"
   ]
  },
  {
   "cell_type": "code",
   "execution_count": 35,
   "metadata": {},
   "outputs": [],
   "source": [
    "from fastai import*\n",
    "from fastai.vision import *"
   ]
  },
  {
   "cell_type": "code",
   "execution_count": 36,
   "metadata": {},
   "outputs": [],
   "source": [
    "def spectrogram_image(y, sr, out, hop_length, n_mels):\n",
    "    # use log-melspectrogram\n",
    "    mels = librosa.feature.melspectrogram(y=y, sr=sr, n_mels=n_mels,\n",
    "                                            n_fft=hop_length*2, hop_length=hop_length, center=False)\n",
    "    mels = numpy.log(mels + 1e-9) # add small number to avoid log(0)\n",
    "\n",
    "    # min-max scale to fit inside 8-bit range\n",
    "    img = scale_minmax(mels, 0, 255).astype(numpy.uint8)\n",
    "    img = numpy.flip(img, axis=0) # put low frequencies at the bottom in image\n",
    "    img = 255-img # invert. make black==more energy\n",
    "\n",
    "    # save as PNG\n",
    "    skimage.io.imsave(out, img)\n",
    "    \n",
    "def scale_minmax(X, min=0.0, max=1.0):\n",
    "    X_std = (X - X.min()) / (X.max() - X.min())\n",
    "    X_scaled = X_std * (max - min) + min\n",
    "    return X_scaled\n",
    "\n"
   ]
  },
  {
   "cell_type": "code",
   "execution_count": 37,
   "metadata": {},
   "outputs": [
    {
     "ename": "SyntaxError",
     "evalue": "invalid syntax (<ipython-input-37-b55c4725f05d>, line 6)",
     "output_type": "error",
     "traceback": [
      "\u001b[0;36m  File \u001b[0;32m\"<ipython-input-37-b55c4725f05d>\"\u001b[0;36m, line \u001b[0;32m6\u001b[0m\n\u001b[0;31m    def generate_images:\u001b[0m\n\u001b[0m                       ^\u001b[0m\n\u001b[0;31mSyntaxError\u001b[0m\u001b[0;31m:\u001b[0m invalid syntax\n"
     ]
    }
   ],
   "source": [
    "\n",
    "# settings\n",
    "hop_length = 294 # number of samples per time-step in spectrogram\n",
    "n_mels = 224 # number of bins in spectrogram. Height of image\n",
    "time_steps = 223 # number of time-steps. Width of image\n",
    "\n",
    "def generate_images:\n",
    "    \n",
    "    # load audio. Using example from librosa\n",
    "    path = '/media/jamie/My Passport/Data/NSYNTH/nsynth-test.jsonwav/nsynth-test/audio/'\n",
    "    outpath = '/media/jamie/My Passport/Data/NSYNTH/nsynth-test.jsonwav/nsynth-test/audio/'\n",
    "    \n",
    "    for filename in os.listdir(path):\n",
    "        if filename.endswith(\".wav\"):\n",
    "            \n",
    "            y, sr = librosa.load(path, offset=1.0, duration=4.0, sr=22050)\n",
    "            out = filename.replace('.wav','.png')\n",
    "\n",
    "            # extract a fixed length window\n",
    "            start_sample = 0 # starting at beginning\n",
    "            length_samples = time_steps*hop_length\n",
    "            window = y[start_sample:start_sample+length_samples]\n",
    "            y, sr = librosa.load('../graphs/' + filename, offset=1.0, duration=4.0, sr=22050)\n",
    "            \n",
    "            continue\n",
    "        else:\n",
    "            continue\n",
    "            \n",
    "    y, sr = librosa.load(path, offset=1.0, duration=4.0, sr=22050)\n",
    "    out = 'out2.png'\n",
    "\n",
    "    # extract a fixed length window\n",
    "    start_sample = 0 # starting at beginning\n",
    "    length_samples = time_steps*hop_length\n",
    "    window = y[start_sample:start_sample+length_samples]\n",
    "\n",
    "    # convert to PNG\n",
    "    spectrogram_image(window, sr=sr, out=out, hop_length=hop_length, n_mels=n_mels)\n",
    "    print('wrote file', out)"
   ]
  },
  {
   "cell_type": "code",
   "execution_count": 40,
   "metadata": {},
   "outputs": [],
   "source": [
    "path = '/media/jamie/My Passport/Data/NSYNTH/nsynth-test.jsonwav/nsynth-test/audio/'"
   ]
  },
  {
   "cell_type": "code",
   "execution_count": 49,
   "metadata": {},
   "outputs": [
    {
     "data": {
      "text/plain": [
       "'bass_electronic_018-022-100.wav'"
      ]
     },
     "execution_count": 49,
     "metadata": {},
     "output_type": "execute_result"
    }
   ],
   "source": [
    "filename= os.listdir(path)[0]; filename"
   ]
  },
  {
   "cell_type": "code",
   "execution_count": 47,
   "metadata": {},
   "outputs": [
    {
     "data": {
      "text/plain": [
       "'bass_electronic_018-022-100.png'"
      ]
     },
     "execution_count": 47,
     "metadata": {},
     "output_type": "execute_result"
    }
   ],
   "source": [
    "out = os.listdir(path)[0].replace('.wav','.png'); out\n"
   ]
  },
  {
   "cell_type": "code",
   "execution_count": 50,
   "metadata": {},
   "outputs": [
    {
     "data": {
      "text/plain": [
       "'/media/jamie/My Passport/Data/NSYNTH/nsynth-test.jsonwav/nsynth-test/audio/bass_electronic_018-022-100.wav'"
      ]
     },
     "execution_count": 50,
     "metadata": {},
     "output_type": "execute_result"
    }
   ],
   "source": [
    "path+filename"
   ]
  },
  {
   "cell_type": "code",
   "execution_count": null,
   "metadata": {},
   "outputs": [],
   "source": []
  }
 ],
 "metadata": {
  "kernelspec": {
   "display_name": "Python 3",
   "language": "python",
   "name": "python3"
  },
  "language_info": {
   "codemirror_mode": {
    "name": "ipython",
    "version": 3
   },
   "file_extension": ".py",
   "mimetype": "text/x-python",
   "name": "python",
   "nbconvert_exporter": "python",
   "pygments_lexer": "ipython3",
   "version": "3.7.3"
  }
 },
 "nbformat": 4,
 "nbformat_minor": 2
}
